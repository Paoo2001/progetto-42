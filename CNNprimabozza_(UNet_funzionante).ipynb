{
  "cells": [
    {
      "cell_type": "markdown",
      "metadata": {
        "id": "gH04G_mcOZ6C"
      },
      "source": [
        "# Modello CNN\n",
        "Genereazione di mappe di perfusione cerebrale rCBV a partire da immagini di Risonanza Magnetica DSC utilizzando un modello CNN."
      ]
    },
    {
      "cell_type": "code",
      "execution_count": 1,
      "metadata": {
        "colab": {
          "base_uri": "https://localhost:8080/"
        },
        "id": "D3AZ8XAOYUGc",
        "outputId": "bc51d434-8624-4dca-e672-b4e61b281511"
      },
      "outputs": [
        {
          "output_type": "stream",
          "name": "stdout",
          "text": [
            "Looking in indexes: https://pypi.org/simple, https://us-python.pkg.dev/colab-wheels/public/simple/\n",
            "Requirement already satisfied: numpy in /usr/local/lib/python3.10/dist-packages (1.22.4)\n",
            "Requirement already satisfied: torch in /usr/local/lib/python3.10/dist-packages (2.0.0+cu118)\n",
            "Requirement already satisfied: torchvision in /usr/local/lib/python3.10/dist-packages (0.15.1+cu118)\n",
            "Collecting torchio\n",
            "  Downloading torchio-0.18.91-py2.py3-none-any.whl (172 kB)\n",
            "\u001b[2K     \u001b[90m━━━━━━━━━━━━━━━━━━━━━━━━━━━━━━━━━━━━━━━\u001b[0m \u001b[32m172.8/172.8 kB\u001b[0m \u001b[31m6.2 MB/s\u001b[0m eta \u001b[36m0:00:00\u001b[0m\n",
            "\u001b[?25hRequirement already satisfied: matplotlib in /usr/local/lib/python3.10/dist-packages (3.7.1)\n",
            "Collecting torchinfo\n",
            "  Downloading torchinfo-1.8.0-py3-none-any.whl (23 kB)\n",
            "Collecting torchmetrics\n",
            "  Downloading torchmetrics-0.11.4-py3-none-any.whl (519 kB)\n",
            "\u001b[2K     \u001b[90m━━━━━━━━━━━━━━━━━━━━━━━━━━━━━━━━━━━━━━\u001b[0m \u001b[32m519.2/519.2 kB\u001b[0m \u001b[31m25.7 MB/s\u001b[0m eta \u001b[36m0:00:00\u001b[0m\n",
            "\u001b[?25hRequirement already satisfied: filelock in /usr/local/lib/python3.10/dist-packages (from torch) (3.12.0)\n",
            "Requirement already satisfied: typing-extensions in /usr/local/lib/python3.10/dist-packages (from torch) (4.5.0)\n",
            "Requirement already satisfied: sympy in /usr/local/lib/python3.10/dist-packages (from torch) (1.11.1)\n",
            "Requirement already satisfied: networkx in /usr/local/lib/python3.10/dist-packages (from torch) (3.1)\n",
            "Requirement already satisfied: jinja2 in /usr/local/lib/python3.10/dist-packages (from torch) (3.1.2)\n",
            "Requirement already satisfied: triton==2.0.0 in /usr/local/lib/python3.10/dist-packages (from torch) (2.0.0)\n",
            "Requirement already satisfied: cmake in /usr/local/lib/python3.10/dist-packages (from triton==2.0.0->torch) (3.25.2)\n",
            "Requirement already satisfied: lit in /usr/local/lib/python3.10/dist-packages (from triton==2.0.0->torch) (16.0.3)\n",
            "Requirement already satisfied: requests in /usr/local/lib/python3.10/dist-packages (from torchvision) (2.27.1)\n",
            "Requirement already satisfied: pillow!=8.3.*,>=5.3.0 in /usr/local/lib/python3.10/dist-packages (from torchvision) (8.4.0)\n",
            "Collecting Deprecated (from torchio)\n",
            "  Downloading Deprecated-1.2.13-py2.py3-none-any.whl (9.6 kB)\n",
            "Collecting SimpleITK!=2.0.*,!=2.1.1.1 (from torchio)\n",
            "  Downloading SimpleITK-2.2.1-cp310-cp310-manylinux_2_17_x86_64.manylinux2014_x86_64.whl (52.7 MB)\n",
            "\u001b[2K     \u001b[90m━━━━━━━━━━━━━━━━━━━━━━━━━━━━━━━━━━━━━━━━\u001b[0m \u001b[32m52.7/52.7 MB\u001b[0m \u001b[31m25.7 MB/s\u001b[0m eta \u001b[36m0:00:00\u001b[0m\n",
            "\u001b[?25hRequirement already satisfied: humanize in /usr/local/lib/python3.10/dist-packages (from torchio) (4.6.0)\n",
            "Requirement already satisfied: nibabel in /usr/local/lib/python3.10/dist-packages (from torchio) (3.0.2)\n",
            "Requirement already satisfied: scipy in /usr/local/lib/python3.10/dist-packages (from torchio) (1.10.1)\n",
            "Requirement already satisfied: tqdm in /usr/local/lib/python3.10/dist-packages (from torchio) (4.65.0)\n",
            "Requirement already satisfied: typer[all] in /usr/local/lib/python3.10/dist-packages (from torchio) (0.7.0)\n",
            "Requirement already satisfied: contourpy>=1.0.1 in /usr/local/lib/python3.10/dist-packages (from matplotlib) (1.0.7)\n",
            "Requirement already satisfied: cycler>=0.10 in /usr/local/lib/python3.10/dist-packages (from matplotlib) (0.11.0)\n",
            "Requirement already satisfied: fonttools>=4.22.0 in /usr/local/lib/python3.10/dist-packages (from matplotlib) (4.39.3)\n",
            "Requirement already satisfied: kiwisolver>=1.0.1 in /usr/local/lib/python3.10/dist-packages (from matplotlib) (1.4.4)\n",
            "Requirement already satisfied: packaging>=20.0 in /usr/local/lib/python3.10/dist-packages (from matplotlib) (23.1)\n",
            "Requirement already satisfied: pyparsing>=2.3.1 in /usr/local/lib/python3.10/dist-packages (from matplotlib) (3.0.9)\n",
            "Requirement already satisfied: python-dateutil>=2.7 in /usr/local/lib/python3.10/dist-packages (from matplotlib) (2.8.2)\n",
            "Requirement already satisfied: six>=1.5 in /usr/local/lib/python3.10/dist-packages (from python-dateutil>=2.7->matplotlib) (1.16.0)\n",
            "Requirement already satisfied: wrapt<2,>=1.10 in /usr/local/lib/python3.10/dist-packages (from Deprecated->torchio) (1.14.1)\n",
            "Requirement already satisfied: MarkupSafe>=2.0 in /usr/local/lib/python3.10/dist-packages (from jinja2->torch) (2.1.2)\n",
            "Requirement already satisfied: urllib3<1.27,>=1.21.1 in /usr/local/lib/python3.10/dist-packages (from requests->torchvision) (1.26.15)\n",
            "Requirement already satisfied: certifi>=2017.4.17 in /usr/local/lib/python3.10/dist-packages (from requests->torchvision) (2022.12.7)\n",
            "Requirement already satisfied: charset-normalizer~=2.0.0 in /usr/local/lib/python3.10/dist-packages (from requests->torchvision) (2.0.12)\n",
            "Requirement already satisfied: idna<4,>=2.5 in /usr/local/lib/python3.10/dist-packages (from requests->torchvision) (3.4)\n",
            "Requirement already satisfied: mpmath>=0.19 in /usr/local/lib/python3.10/dist-packages (from sympy->torch) (1.3.0)\n",
            "Requirement already satisfied: click<9.0.0,>=7.1.1 in /usr/local/lib/python3.10/dist-packages (from typer[all]->torchio) (8.1.3)\n",
            "Collecting colorama<0.5.0,>=0.4.3 (from typer[all]->torchio)\n",
            "  Downloading colorama-0.4.6-py2.py3-none-any.whl (25 kB)\n",
            "Collecting shellingham<2.0.0,>=1.3.0 (from typer[all]->torchio)\n",
            "  Downloading shellingham-1.5.0.post1-py2.py3-none-any.whl (9.4 kB)\n",
            "Collecting rich<13.0.0,>=10.11.0 (from typer[all]->torchio)\n",
            "  Downloading rich-12.6.0-py3-none-any.whl (237 kB)\n",
            "\u001b[2K     \u001b[90m━━━━━━━━━━━━━━━━━━━━━━━━━━━━━━━━━━━━━━\u001b[0m \u001b[32m237.5/237.5 kB\u001b[0m \u001b[31m16.4 MB/s\u001b[0m eta \u001b[36m0:00:00\u001b[0m\n",
            "\u001b[?25hCollecting commonmark<0.10.0,>=0.9.0 (from rich<13.0.0,>=10.11.0->typer[all]->torchio)\n",
            "  Downloading commonmark-0.9.1-py2.py3-none-any.whl (51 kB)\n",
            "\u001b[2K     \u001b[90m━━━━━━━━━━━━━━━━━━━━━━━━━━━━━━━━━━━━━━━\u001b[0m \u001b[32m51.1/51.1 kB\u001b[0m \u001b[31m538.1 kB/s\u001b[0m eta \u001b[36m0:00:00\u001b[0m\n",
            "\u001b[?25hRequirement already satisfied: pygments<3.0.0,>=2.6.0 in /usr/local/lib/python3.10/dist-packages (from rich<13.0.0,>=10.11.0->typer[all]->torchio) (2.14.0)\n",
            "Installing collected packages: SimpleITK, commonmark, torchinfo, shellingham, rich, Deprecated, colorama, torchmetrics, torchio\n",
            "  Attempting uninstall: rich\n",
            "    Found existing installation: rich 13.3.4\n",
            "    Uninstalling rich-13.3.4:\n",
            "      Successfully uninstalled rich-13.3.4\n",
            "Successfully installed Deprecated-1.2.13 SimpleITK-2.2.1 colorama-0.4.6 commonmark-0.9.1 rich-12.6.0 shellingham-1.5.0.post1 torchinfo-1.8.0 torchio-0.18.91 torchmetrics-0.11.4\n"
          ]
        }
      ],
      "source": [
        "!pip install numpy torch torchvision torchio matplotlib torchinfo torchmetrics"
      ]
    },
    {
      "cell_type": "code",
      "execution_count": 2,
      "metadata": {
        "colab": {
          "base_uri": "https://localhost:8080/"
        },
        "id": "GPze4KhFOegC",
        "outputId": "f9e24d6a-da9e-459d-dcb2-d3e6debf405f"
      },
      "outputs": [
        {
          "output_type": "stream",
          "name": "stdout",
          "text": [
            "Mounted at /content/drive/\n"
          ]
        }
      ],
      "source": [
        "# imports\n",
        "import torch\n",
        "import torchio as tio\n",
        "import numpy as np\n",
        "import os\n",
        "from torchinfo import summary\n",
        "import skimage #serve per elaborazione immagini (nel nostro caso usiamo per le metriche)\n",
        "import torch.nn as nn #ci sono moduli per alcuni modelli neurali, regressione, convoluzione ecc\n",
        "import torch.nn.functional as F #qui invece ci possono essere buoni comandi per kernel, filtraggi, max pooling e cose così\n",
        "import shutil\n",
        "import torchvision\n",
        "from torchvision import models, transforms as tt\n",
        "import matplotlib.pyplot as plt\n",
        "import nibabel as nib #libreria per la gestion di file .nii\n",
        "from skimage.metrics import mean_squared_error as mse\n",
        "from skimage.metrics import structural_similarity as ssim\n",
        "from skimage.metrics import peak_signal_noise_ratio as psnr\n",
        "from skimage.metrics import normalized_root_mse as nrmse\n",
        "from google.colab import drive\n",
        "drive.mount('/content/drive/') #Ora necessario caricare su drive le cartelle, necessario però un metodo alternativo (caricare i file dal locale) COME?"
      ]
    },
    {
      "cell_type": "code",
      "execution_count": 3,
      "metadata": {
        "id": "jZVx90c7FYC2"
      },
      "outputs": [],
      "source": [
        "data_dir = '/content/drive/MyDrive/Data (prova)'  # directory della cartella \"data\" (già importata su drive)\n",
        "\n",
        "# Creazione di una lista di patients_ID\n",
        "patients_ID = [] \n",
        "for f in os.scandir(data_dir): # restituisce un iteratore sugli elementi presenti nella directory \"data_dir\"\n",
        "  if f.is_dir(): # se l'elemento è una directory, allora viene aggiungo alla lista\n",
        "    patients_ID.append(f.name) # riempimento della lista patients_ID con tutti i nomi delle directory che sono contenuti in data e soddisfano l'if"
      ]
    },
    {
      "cell_type": "code",
      "execution_count": 4,
      "metadata": {
        "id": "U9Hdr7u7kzvQ"
      },
      "outputs": [],
      "source": [
        "#data = '/content/drive/MyDrive/Data (prova)'  # directory\n",
        "#patients_ID = []\n",
        "#for f in os.scandir(data):\n",
        "#  if f.is_dir():\n",
        "#    patients_ID.append(f.name) # riempimento della lista patients_ID con tutti i nomi delle directory che sono contenuti in data e soddisfano l'if"
      ]
    },
    {
      "cell_type": "code",
      "execution_count": 5,
      "metadata": {
        "id": "G_NHN5UwFeFu"
      },
      "outputs": [],
      "source": [
        "# Creazione di una lista patients_list\n",
        "patients_list = []\n",
        "for current in patients_ID:\n",
        "  subj_dir = data_dir +'/'+ current \n",
        "  \n",
        "  #Creazione di un'istanza\n",
        "  patient = tio.Subject( # creo un oggetto \"Subject\" per ogni paziente della lista utilizzando le immagini DSC e rCBV\n",
        "      DSC = tio.ScalarImage(subj_dir + '/DSC.nii'), #.to(torch.float32), # ScalarImagine: immagine scalare 3D\n",
        "      rCBV = tio.ScalarImage(subj_dir + '/DSC_ap-rCBV.nii'),  # ogni paziente contiene nome, immagine DSC e immagine rCBV\n",
        "      #brain_mask = tio.LabelMap(subj_dir + '/brain_mask.nii')\n",
        "      )\n",
        "  \n",
        "  #patient.DSC.set_data(patient.DSC.data.to(torch.float32))\n",
        "  #patient.rCBV.set_data(patient.rCBV.data.to(torch.float32))\n",
        " \n",
        "  patients_list.append(patient)    # aggiunta di patient alla lista patients_list\n"
      ]
    },
    {
      "cell_type": "markdown",
      "metadata": {
        "id": "XLLbj8QCFwOx"
      },
      "source": [
        "L'oggetto \"patient\" rappresenta un paziente specifico, contenente il nome del paziente e le immagini DSC e rCBV del paziente."
      ]
    },
    {
      "cell_type": "code",
      "execution_count": 6,
      "metadata": {
        "colab": {
          "base_uri": "https://localhost:8080/"
        },
        "id": "shw-M_Islwmk",
        "outputId": "bec3d94a-11e0-4990-8fb9-92995bcd8ede"
      },
      "outputs": [
        {
          "output_type": "stream",
          "name": "stdout",
          "text": [
            "Dataset size: 50 patients\n"
          ]
        }
      ],
      "source": [
        "#Creazione Dataset\n",
        "dataset = tio.SubjectsDataset(patients_list)\n",
        "print('Dataset size:', len(dataset), 'patients')"
      ]
    },
    {
      "cell_type": "code",
      "execution_count": 7,
      "metadata": {
        "colab": {
          "base_uri": "https://localhost:8080/"
        },
        "id": "e-jjFl2KzDN9",
        "outputId": "00f75ffc-ab39-4a7f-b4c1-34f8fb7c6153"
      },
      "outputs": [
        {
          "output_type": "stream",
          "name": "stdout",
          "text": [
            "torch.int16\n",
            "torch.int16\n"
          ]
        }
      ],
      "source": [
        "print(dataset[0][\"DSC\"][tio.DATA].dtype),\n",
        "print(dataset[0][\"rCBV\"][tio.DATA].dtype)"
      ]
    },
    {
      "cell_type": "markdown",
      "metadata": {
        "id": "xx4QDhJZGBGi"
      },
      "source": [
        "### Visualizzare tipo e immagine input output"
      ]
    },
    {
      "cell_type": "markdown",
      "metadata": {
        "id": "BRkAOWASGRSQ"
      },
      "source": [
        "## Training e Validation set"
      ]
    },
    {
      "cell_type": "markdown",
      "metadata": {
        "id": "U4K2dP3P8Zsr"
      },
      "source": [
        "### Preparazione dei dati (trasformazioni)"
      ]
    },
    {
      "cell_type": "code",
      "execution_count": 8,
      "metadata": {
        "id": "VRBm2Zsi8hnx"
      },
      "outputs": [],
      "source": [
        "training_transform = tio.Compose([\n",
        "    tio.ToCanonical(),\n",
        "    tio.CropOrPad((120,120,80)), #Crop the images w,h,d and centre around the mask_name\n",
        "    tio.Resample((2,2,2)),\n",
        "    #tio.ZNormalization(masking_method='brain_mask'),\n",
        "])\n",
        "\n",
        "validation_transform = tio.Compose([\n",
        "    tio.ToCanonical(),\n",
        "    tio.CropOrPad((120,120,80)), #Crop the images w,h,d and centre around the mask_nam\n",
        "    tio.Resample((2,2,2)),\n",
        "    #tio.ZNormalization(masking_method='brain_mask'),\n",
        "])\n"
      ]
    },
    {
      "cell_type": "markdown",
      "metadata": {
        "id": "8G8qx8KXRDTe"
      },
      "source": [
        "### Divisione del dataset"
      ]
    },
    {
      "cell_type": "code",
      "execution_count": 9,
      "metadata": {
        "colab": {
          "base_uri": "https://localhost:8080/"
        },
        "id": "1smDIbO1GkAO",
        "outputId": "9a666c44-66d8-44b2-be03-48d06571cb89"
      },
      "outputs": [
        {
          "output_type": "stream",
          "name": "stdout",
          "text": [
            "train_set: 35\n",
            "val_set: 10\n",
            "test_set: 5\n"
          ]
        }
      ],
      "source": [
        "# suddivisione del dataset, in modo casuale, in dati di training (70% dei dati) e di validation (30% dei dati). #MANCA 10% PER IL TESTING!!!\n",
        "training_division = 0.7   # definizione della % di dati di training\n",
        "validation_division = 0.2 # definizione della % di dati di validation\n",
        "#test_division = 0.1\n",
        "\n",
        "num_patients = len(dataset) # pazienti totali\n",
        "train_patients = int(training_division*num_patients)\n",
        "val_patients = int(validation_division*num_patients)\n",
        "test_patients = int(num_patients-(train_patients+val_patients))\n",
        "\n",
        "# creazione dei tre sottoinsiemi \n",
        "patients_division = train_patients, val_patients, test_patients\n",
        "train, val, test = torch.utils.data.random_split(patients_list, patients_division) # suddivido casualmente la lista di pazienti in tre sottoinsiemi\n",
        "\n",
        "training_set = tio.SubjectsDataset(train, transform=training_transform)\n",
        "print('train_set:', len(training_set)) # per verificare il numero di dati di training\n",
        "validation_set = tio.SubjectsDataset(val, transform=validation_transform)\n",
        "print('val_set:', len(validation_set)) # per verificare il numero di dati di validation\n",
        "test_set = tio.SubjectsDataset(test)\n",
        "print('test_set:', len(test_set))"
      ]
    },
    {
      "cell_type": "code",
      "execution_count": 10,
      "metadata": {
        "id": "k1xBfibcJGuw"
      },
      "outputs": [],
      "source": [
        "#training_set[0][\"DSC\"][tio.DATA].shape, training_set[0][\"rCBV\"][tio.DATA].shape"
      ]
    },
    {
      "cell_type": "markdown",
      "metadata": {
        "id": "TuLR_rqiOb_6"
      },
      "source": [
        "###Mask"
      ]
    },
    {
      "cell_type": "code",
      "execution_count": 11,
      "metadata": {
        "id": "f8rQZ4_9zjyv"
      },
      "outputs": [],
      "source": [
        "#def masking(dataset):\n",
        "#  for i in range(len(dataset)):\n",
        "#    mask = dataset[i][\"DSC\"][tio.DATA] > 0\n",
        "#   print(mask.shape)\n",
        "#    dataset[i][\"mask\"] = mask "
      ]
    },
    {
      "cell_type": "code",
      "execution_count": 12,
      "metadata": {
        "id": "hX8hjKr44WYF"
      },
      "outputs": [],
      "source": [
        "#masking(dataset)\n",
        "\n",
        "#dataset[0][\"mask\"].plot()\n",
        "#dataset[1][\"mask\"].plot()"
      ]
    },
    {
      "cell_type": "code",
      "execution_count": 13,
      "metadata": {
        "id": "_uJYRAVuqYLU"
      },
      "outputs": [],
      "source": [
        " #visualizzare info\n",
        "#print(paziente_1.DSC.shape)\n",
        "#mask = dataset[0][\"DSC\"][tio.DATA]>0\n",
        "#print(mask.shape)\n",
        "\n",
        "#print(paziente_1.DSC)\n",
        "#print(paziente_1.rCBV)"
      ]
    },
    {
      "cell_type": "markdown",
      "metadata": {
        "id": "ng0gpAbPt6FK"
      },
      "source": [
        "##Creazione del DataLoader"
      ]
    },
    {
      "cell_type": "code",
      "execution_count": 14,
      "metadata": {
        "colab": {
          "base_uri": "https://localhost:8080/"
        },
        "id": "mSuhIsttyifE",
        "outputId": "6779616b-9e4b-484b-fee7-9199fc6ef11d"
      },
      "outputs": [
        {
          "output_type": "execute_result",
          "data": {
            "text/plain": [
              "4"
            ]
          },
          "metadata": {},
          "execution_count": 14
        }
      ],
      "source": [
        "#check num_cores disponibili\n",
        "import multiprocessing\n",
        "cores = multiprocessing.cpu_count() # per contare il numero di cpu che si hanno\n",
        "cores"
      ]
    },
    {
      "cell_type": "code",
      "execution_count": 15,
      "metadata": {
        "id": "UZkWonT8t9dS"
      },
      "outputs": [],
      "source": [
        "from torch.utils.data.dataloader import DataLoader\n",
        "batch_size = 8 # dimensione del batch\n",
        "train_loader = torch.utils.data.DataLoader(training_set, \n",
        "                                           batch_size, \n",
        "                                           shuffle = True,\n",
        "                                           num_workers=cores,\n",
        "                                           pin_memory=True) # shuffle = True indica che i dati vengono caricati in modo casuale\n",
        "val_loader = torch.utils.data.DataLoader(validation_set, \n",
        "                                         batch_size, \n",
        "                                         shuffle = False,\n",
        "                                         num_workers=cores,  #metto tanti cores quanti ne ho disponibili\n",
        "                                         pin_memory=True)  # i dati vengono caricati in ordine"
      ]
    },
    {
      "cell_type": "markdown",
      "metadata": {
        "id": "WGIav5_vj3qJ"
      },
      "source": [
        "### Sposto il DataLoader e i dati sulla GPU"
      ]
    },
    {
      "cell_type": "code",
      "execution_count": 16,
      "metadata": {
        "colab": {
          "base_uri": "https://localhost:8080/"
        },
        "id": "eW-_MIf3k--d",
        "outputId": "a30b047c-284c-4bca-d0a6-0ebeba77e2ca"
      },
      "outputs": [
        {
          "output_type": "execute_result",
          "data": {
            "text/plain": [
              "True"
            ]
          },
          "metadata": {},
          "execution_count": 16
        }
      ],
      "source": [
        "# Verifico che la GPU sia disponibile\n",
        "torch.cuda.is_available() # Resistuisce 'True' se la GPU è accessibile"
      ]
    },
    {
      "cell_type": "code",
      "execution_count": 17,
      "metadata": {
        "id": "7Sdh9mo4wZN_"
      },
      "outputs": [],
      "source": [
        "def get_default_device():\n",
        "    # Se è disponibile prende la GPU, altrimenti la CPU locale\n",
        "    if torch.cuda.is_available():\n",
        "        return torch.device('cuda')\n",
        "    else:\n",
        "        return torch.device('cpu')\n",
        "    \n",
        "#def to_device(data, device):\n",
        "#    # Sposta i tensori (dati) sul device stabilito\n",
        "#        return data.to(device, non_blocking=True)\n",
        "#    if isinstance(data, torch.Tensor): # sposto i tensori\n",
        "#    elif isinstance(data, (list,tuple)): # sposto le liste o le tuple\n",
        "#        return [to_device(x, device) for x in data]\n",
        "#    elif isinstance(data, dict): # sposto i dizionari\n",
        "#        return {k: to_device(v, device) for k, v in data.items()}\n",
        "#    else:\n",
        "#        return data\n",
        "\n",
        "def to_device(data, device):\n",
        "    if isinstance(data, (list,tuple)): \n",
        "      return [to_device(x, device) for x in data]\n",
        "    return data.to(device, non_blocking=True)\n",
        "\n",
        "class DeviceDataLoader():\n",
        "    # Wrapping del DataLoader per spostare i dati sul device\n",
        "    def __init__(self, dl, device):\n",
        "        self.dl = dl\n",
        "        self.device = device\n",
        "        \n",
        "    def __iter__(self):\n",
        "        # Restituisce un batch di dati spostandolo sulla GPU\n",
        "        for b in self.dl: \n",
        "            yield to_device(b, self.device) if isinstance(b, torch.Tensor) else b\n",
        "\n",
        "    def __len__(self):\n",
        "        # Numero di batch\n",
        "        return len(self.dl)"
      ]
    },
    {
      "cell_type": "code",
      "execution_count": 18,
      "metadata": {
        "colab": {
          "base_uri": "https://localhost:8080/"
        },
        "id": "l8l6Ftl_tTGY",
        "outputId": "b2e39e1d-5e12-4da5-ca19-c22cd72ad72d"
      },
      "outputs": [
        {
          "output_type": "execute_result",
          "data": {
            "text/plain": [
              "device(type='cuda')"
            ]
          },
          "metadata": {},
          "execution_count": 18
        }
      ],
      "source": [
        "device = get_default_device()\n",
        "device"
      ]
    },
    {
      "cell_type": "code",
      "execution_count": 19,
      "metadata": {
        "id": "W5ENbW4MlXFu"
      },
      "outputs": [],
      "source": [
        "train_loader = DeviceDataLoader(train_loader, device)  # crea un DeviceDataLoader \"avvolgendo\" (wrapping) il train_loader\n",
        "val_loader = DeviceDataLoader(val_loader, device) # idem per il val_loader"
      ]
    },
    {
      "cell_type": "markdown",
      "metadata": {
        "id": "9Oz2vxg1wcQ7"
      },
      "source": [
        "## Creazionde del modello"
      ]
    },
    {
      "cell_type": "code",
      "execution_count": 20,
      "metadata": {
        "id": "0VoJMz2Jh3cU"
      },
      "outputs": [],
      "source": [
        "#def set_parameter_requires_grad(model, feature_extracting):\n",
        "#    if feature_extracting:\n",
        "#        for param in model.parameters():\n",
        "#            param.requires_grad = False\n",
        "#permette di congelare tutti i pesi, non vengono più \"aggiustati\""
      ]
    },
    {
      "cell_type": "code",
      "execution_count": 21,
      "metadata": {
        "id": "0RUyAu2cio4E"
      },
      "outputs": [],
      "source": [
        "#resnet18 = torchvision.models.resnet18(pretrained=True)"
      ]
    },
    {
      "cell_type": "code",
      "execution_count": 22,
      "metadata": {
        "id": "xF-PoZc0lXNY"
      },
      "outputs": [],
      "source": [
        "#print(resnet18)"
      ]
    },
    {
      "cell_type": "code",
      "execution_count": 23,
      "metadata": {
        "id": "g5MtCSBHmIo-"
      },
      "outputs": [],
      "source": [
        "#for param in resnet18.parameters():\n",
        "#    param.requires_grad = False"
      ]
    },
    {
      "cell_type": "code",
      "execution_count": 24,
      "metadata": {
        "id": "nLQV5Ukoh6-M"
      },
      "outputs": [],
      "source": [
        "#inizializzo e rimodello le reti dei modelli preaddestrati\n"
      ]
    },
    {
      "cell_type": "code",
      "execution_count": 25,
      "metadata": {
        "id": "vafFnTMc8p5r"
      },
      "outputs": [],
      "source": [
        "#type(training_set[0].DSC), \n",
        "#training_set[0][\"rCBV\"].data #1: dice il tipo di dato che si ha #2: printa il contenuto del tensore"
      ]
    },
    {
      "cell_type": "code",
      "execution_count": 26,
      "metadata": {
        "id": "_tzAXWp-Jjv_"
      },
      "outputs": [],
      "source": [
        "#def show_batch_DSC(data_loader):\n",
        "#  for batch_idx, batch_sample in enumerate(data_loader):\n",
        "#    images = batch_sample[\"DSC\"][tio.DATA]\n",
        "#    img_DSC = images[0, 0, :, :, 50] #prendo solo la prima immagine, le x e le y della 50 fetta sulle z del time frame 0.\n",
        "\n",
        "#    # Visualizzazione delle prime 4 immagini della batch\n",
        "#    plt.imshow(img_DSC, cmap=\"gray\")\n",
        "#    plt.show()    # Interrompi l'iterazione dopo la prima batch\n",
        "#    break"
      ]
    },
    {
      "cell_type": "code",
      "execution_count": 27,
      "metadata": {
        "id": "ECpLwZo9EabR"
      },
      "outputs": [],
      "source": [
        "#show_batch_DSC(train_loader)"
      ]
    },
    {
      "cell_type": "code",
      "execution_count": 28,
      "metadata": {
        "id": "vpOmuh9YR2GJ"
      },
      "outputs": [],
      "source": [
        "def prepare_batch(batch, device): # estrae l'input e l'output desiderati da una singola batch di dati del loader e li restituisce come tensori PyTorch\n",
        "    inputs = batch[\"DSC\"][tio.DATA].to(device).to(torch.float32) # tensore \n",
        "    targets = batch[\"rCBV\"][tio.DATA].to(device) # tensore\n",
        "    return inputs, targets"
      ]
    },
    {
      "cell_type": "code",
      "execution_count": 29,
      "metadata": {
        "id": "FXpfO3KxZ0gU"
      },
      "outputs": [],
      "source": [
        "from torchmetrics.functional import structural_similarity_index_measure "
      ]
    },
    {
      "cell_type": "code",
      "execution_count": 30,
      "metadata": {
        "id": "VaNy_jkGC5Gv"
      },
      "outputs": [],
      "source": [
        "class ImageClassificationBase(nn.Module):\n",
        "    def training_step(self, batch):\n",
        "        inputs, targets = prepare_batch(batch, device)\n",
        "        print(inputs.shape)\n",
        "        print(targets.shape)\n",
        "        out = self(inputs)  # Generate predictions\n",
        "        print(out.shape)             \n",
        "        loss = F.mse_loss(out, targets) # Calculate loss\n",
        "        print(\"Fine train\")\n",
        "        return loss\n",
        "\n",
        "    def validation_step(self, loader):\n",
        "        inputs, targets = prepare_batch(loader, device)\n",
        "        out = self(inputs)     # Generate predictions\n",
        "        loss = F.mse_loss(out, targets)   # Calculate loss\n",
        "\n",
        "        targets = targets.cpu().detach().numpy().squeeze() #converto in numpy perchè skimage lavora su tensori di questo tipo\n",
        "        out = out.cpu().detach().numpy().squeeze()\n",
        "      \n",
        "        print(targets.shape, out.shape)\n",
        "\n",
        "        mse_ = np.square(np.subtract(targets, out)).mean() # Calculate mean square error\n",
        "        nrmse_ = nrmse(targets, out) # Calculate normalized root mean square error\n",
        "        ssim_ = structural_similarity_index_measure(torch.from_numpy(targets).to(torch.float32), torch.from_numpy(out).to(torch.float32), data_range = out.max() - out.min()) # Calculate structural similarity index\n",
        "        psnr_ = psnr(targets, out, data_range = out.max() - out.min()) # Calculate peak signal to noise ratio\n",
        "        return {'val_loss': loss.detach(), 'mse': mse_, 'nrmse': nrmse_, 'ssim': ssim_, 'psnr':psnr_}\n",
        "   \n",
        "    def validation_epoch_end(self, outputs):\n",
        "      batch_losses = [x['val_loss'] for x in outputs]\n",
        "      epoch_loss = torch.stack(batch_losses).mean()   # Combine losses\n",
        "      batch_mses = [x['mse'] for x in outputs]\n",
        "      epoch_mse = np.mean(batch_mses)   # Combine mses\n",
        "      batch_nrmses = [x['nrmse'] for x in outputs]\n",
        "      epoch_nrmse = np.mean(batch_nrmses)  # Combine nrmses\n",
        "      batch_ssims = [x['ssim'] for x in outputs]\n",
        "      epoch_ssim = np.mean(batch_ssims)   # Combine ssims\n",
        "      batch_psnrs = [x['psnr'] for x in outputs]\n",
        "      epoch_psnr = np.mean(batch_psnrs) # Combine psnrs\n",
        "      return {'val_loss': epoch_loss.item(), 'mse': epoch_mse.item(), 'nrmse': epoch_nrmse.item(), 'ssim': epoch_ssim.item(), 'psnr':epoch_psnr.item()}\n",
        "    \n",
        "    def epoch_end(self, epoch, result):\n",
        "      print(\"Epoch [{}], train_loss: {:.4f}, val_loss: {:.4f}, mse: {:.4f}, nrmse: {:.4f}, ssim: {:.4f}, psnr: {:.4f}\".format(epoch+1, result['train_loss'], result['val_loss'], result['mse'], result['nrmse'], result['ssim'], result['psnr']))\n",
        "  "
      ]
    },
    {
      "cell_type": "code",
      "execution_count": 31,
      "metadata": {
        "id": "0UEk5mZLDBKH"
      },
      "outputs": [],
      "source": [
        "import torch.nn as nn\n",
        "import torchvision.models as models\n",
        "class CustomResNet(ImageClassificationBase):\n",
        "    def __init__(self):\n",
        "        super().__init__()\n",
        "        self.conv11 = nn.Sequential( #input 3 x 45 x 256 x 256 x 16\n",
        "            nn.Conv3d(45,32, kernel_size=(1,1,1), stride=1), #output 3 x 32 x 256 x 256 x 16 #32x60x60x40\n",
        "            nn.BatchNorm3d(32, eps=1e-03, momentum=0.1), #output 3 x 32 x x 256 x 256 x 16\n",
        "            nn.LeakyReLU()) #output 3 x 32 x 256 x 256 x 16\n",
        "        self.conv12 = nn.Sequential(\n",
        "            nn.Conv3d(32,32, kernel_size=(1,1,1), stride=1), #output 3 x 32 x 256 x 256 x 16\n",
        "            nn.BatchNorm3d(32, eps=1e-03, momentum=0.1), #output 3 x 32 x 256 x 256 x 16\n",
        "            nn.LeakyReLU()) #output 3 x 32 x 256 x 256 x 16\n",
        "        self.pool1 = nn.MaxPool3d(kernel_size=(2,2,1)) #output 3 x 32 x 128 x 128 x 16 ##3 x 32 x 30 x 30 x 40\n",
        "        \n",
        "        self.conv21 = nn.Sequential(\n",
        "            nn.Conv3d(32,64, kernel_size=(5,5,2), stride=1), #output 3 x 64 x 124 x 124 x 15 ##3x64x26x26x39\n",
        "            nn.BatchNorm3d(64, eps=1e-03, momentum=0.1), #output 3 x 64 x 124 x 124 x 15 \n",
        "            nn.LeakyReLU()) #output 3 x 64 x 124 x 124 x 15\n",
        "        self.conv22 = nn.Sequential(\n",
        "            nn.Conv3d(64,64, kernel_size=(5,5,2), stride=1), #output 3 x 64 x 120 x 120 x 14 ##3 x 64 x 22 x 22 x 38\n",
        "            nn.BatchNorm3d(64, eps=1e-03, momentum=0.1), #output 3 x 64 x 120 x 120 x 14\n",
        "            nn.LeakyReLU()) #output 3 x 64 x 120 x 120 x 14\n",
        "        self.pool2 = nn.MaxPool3d(kernel_size=(2,2,1)) #output 3 x 64 x 60 x 60 x 14 ##3 x 64 x 11 x 11 x 38\n",
        "        \n",
        "        self.conv31 = nn.Sequential(\n",
        "            nn.Conv3d(64,128, kernel_size=(5,5,2), stride=1), #output 3 x 128 x 56 x 56 x 13 ##3 x 128 x 7 x 7 x 37\n",
        "            nn.BatchNorm3d(128, eps=1e-03, momentum=0.1), #output 3 x 128 x 56 x 56 x 13\n",
        "            nn.LeakyReLU()) #output 3 x 128 x 56 x 56 x 13\n",
        "        self.conv32 = nn.Sequential(\n",
        "            nn.Conv3d(128,128, kernel_size=(5,5,2), stride=1), #output 3 x 128 x 52 x 52 x 12 ##3x128x3x3x36\n",
        "            nn.BatchNorm3d(128, eps=1e-03, momentum=0.1), #output 3 x 128 x 52 x 52 x 12\n",
        "            nn.LeakyReLU()) #output 3 x 128 x 52 x 52 x 12#################\n",
        "        \n",
        "        self.Aconv1 = self.deconv1 = nn.ConvTranspose3d(128, 64, kernel_size=(8,8,5))\n",
        "\n",
        "        self.Aconv2 = nn.Sequential(\n",
        "            nn.Conv3d(in_channels=64, out_channels=32, kernel_size=(3, 3, 3), stride=1, padding=1),\n",
        "            nn.BatchNorm3d(32),\n",
        "            nn.LeakyReLU())\n",
        "\n",
        "        self.deconv4 = nn.Sequential(\n",
        "                nn.Conv3d(in_channels=32, out_channels=16, kernel_size=(3, 3, 3), stride=1, padding=1),\n",
        "                nn.BatchNorm3d(16),\n",
        "                nn.LeakyReLU())\n",
        "        #self.conv51 = nn.Sequential(\n",
        "        #    nn.Conv3d(in_channels=128, out_channels=64, kernel_size=(1, 3, 3), stride=1, padding=(0, 1, 1)),\n",
        "        #    nn.BatchNorm3d(64),\n",
        "        #    nn.LeakyReLU())\n",
        "        self.conv52 = nn.ConvTranspose3d(16, 8, kernel_size=(31,31,1))\n",
        "        self.deconv61 = nn.ConvTranspose3d(8, 4, kernel_size=(21,21,1))\n",
        "        self.deconv62 = nn.ConvTranspose3d(4, 1, kernel_size=(1,1,1))\n",
        "        \n",
        "        \n",
        "    def forward(self,x):\n",
        "        conv11 = self.conv11(x)\n",
        "        print(conv11.shape)\n",
        "        conv12 = self.conv12(conv11)\n",
        "        print(conv12.shape)\n",
        "        pool1 = self.pool1(conv12)\n",
        "        print(pool1.shape)\n",
        "        conv21 = self.conv21(pool1)\n",
        "        print(conv21.shape)\n",
        "        conv22 = self.conv22(conv21)\n",
        "        print(conv22.shape)\n",
        "        pool2 = self.pool2(conv22)\n",
        "        print(pool2.shape)\n",
        "        \n",
        "        conv31 = self.conv31(pool2)\n",
        "        print(conv31.shape)\n",
        "        conv32 = self.conv32(conv31)\n",
        "        print(conv32.shape)\n",
        "        Aconv1 = self.Aconv1(conv32)   \n",
        "        print(Aconv1.shape)     \n",
        "        Aconv2 = self.Aconv2(Aconv1)\n",
        "        print(Aconv2.shape)\n",
        "        \n",
        "        deconv4 = self.deconv4(Aconv2)\n",
        "        print(deconv4.shape)\n",
        "        #deconv_concat4 = torch.cat(deconv4)\n",
        "        \n",
        "        #conv51 = self.conv51(deconv4)\n",
        "        conv52 = self.conv52(deconv4)\n",
        "        print(conv52.shape)\n",
        "        conv62 = self.deconv61(conv52)\n",
        "        out = self.deconv62(conv62) \n",
        "        #deconv_concat3 = torch.cat((conv32,deconv3),1)\n",
        "        \n",
        "        \n",
        "    \n",
        "        return out"
      ]
    },
    {
      "cell_type": "code",
      "execution_count": 32,
      "metadata": {
        "id": "wGqHgVzCDPYM"
      },
      "outputs": [],
      "source": [
        "model = CustomResNet()#.to('cuda')\n",
        "\n",
        "# sposto il modello sulla GPU\n",
        "model = to_device(model, device)\n",
        "#print(model) \n",
        "#print('Modello su dispositivo:', next(model.parameters()).device)"
      ]
    },
    {
      "cell_type": "markdown",
      "metadata": {
        "id": "vVSARCnGG-1o"
      },
      "source": [
        "## Training del modello"
      ]
    },
    {
      "cell_type": "code",
      "execution_count": 33,
      "metadata": {
        "id": "5u_JWh9R6Ano"
      },
      "outputs": [],
      "source": [
        "# definisco una classe per salvare il modello durante il training. \n",
        "# se il valore della val_loss corrente è minore del precedente, allora salvo lo stato del modello\n",
        "\n",
        "class SaveBestModel: \n",
        "  def __init__(\n",
        "      self, best_valid_loss = float('inf')\n",
        "  ):\n",
        "      self.best_valid_loss = best_valid_loss\n",
        "\n",
        "  def __call__(\n",
        "      self, current_valid_loss,\n",
        "      epoch, model, optimizer, criterion, path_name #, scheduler\n",
        "  ): \n",
        "      if current_valid_loss < self.best_valid_loss: \n",
        "        self.best_valid_loss = current_valid_loss\n",
        "        print(f\"\\nBest validation loss: {self.best_valid_loss}\")\n",
        "        print(f\"\\nSaving best model for epoch: {epoch+1}\\n\")\n",
        "        torch.save({\n",
        "            'epoch': epoch+1,\n",
        "            'model_state_dict': model.state_dict(),\n",
        "            'optimizer_state_dict': optimizer.state_dict(),\n",
        "            'loss': criterion,\n",
        "            }, path_name+'.pth')\n"
      ]
    },
    {
      "cell_type": "code",
      "execution_count": 34,
      "metadata": {
        "id": "F2kHrRdcmkAY"
      },
      "outputs": [],
      "source": [
        "@torch.no_grad() #l'utilizzo di @torch.no_grad() all'interno della funzione evaluate() ha senso perché consente di disabilitare il calcolo del gradiente durante la fase di valutazione del modello, migliorando l'efficienza del processo di valutazione.\n",
        "\n",
        "def evaluate(model, val_loader):\n",
        "  # with torch.no_grad():\n",
        "    model.eval()\n",
        "    print(\"Evaluate 1 fatto\")\n",
        "    outputs = [model.validation_step(batch) for batch in val_loader]\n",
        "    print(\"Evaluate 2 fatto\")\n",
        "    return model.validation_epoch_end(outputs)\n",
        "\n",
        "#def get_lr(optimizer):\n",
        "#    for param_group in optimizer.param_groups:\n",
        "#        return param_group['lr']\n",
        "\n",
        "#def fit_one_cycle(epochs, max_lr, model, train_loader, val_loader, \n",
        "#                  weight_decay=0, grad_clip=None, opt_func=torch.optim.SGD):\n",
        "#    torch.cuda.empty_cache()\n",
        "#    history = []\n",
        "#    \n",
        "#    # Set up cutom optimizer with weight decay\n",
        "#    optimizer = opt_func(model.parameters(), max_lr, weight_decay=weight_decay)\n",
        "#    # Set up one-cycle learning rate scheduler\n",
        "#    scheduler = torch.optim.lr_scheduler.OneCycleLR(optimizer, max_lr, epochs=epochs, \n",
        "#                                                steps_per_epoch=len(train_loader))\n",
        "#    \n",
        "#    for epoch in range(epochs):\n",
        "#        \n",
        "#        #strt_time = time.time()\n",
        "#        \n",
        "#        # Training Phase \n",
        "#        model.train()\n",
        "#        train_losses = []\n",
        "#        lrs = []\n",
        "#        for batch in train_loader:\n",
        "#\n",
        "#            \n",
        "#            loss = model.training_step(batch)\n",
        "#            loss.to(torch.float32)\n",
        "#            train_losses.append(loss)\n",
        "#            loss.backward()\n",
        "#            \n",
        "#            # Gradient clipping\n",
        "#            if grad_clip: \n",
        "#                nn.utils.clip_grad_value_(model.parameters(), grad_clip)\n",
        "#            \n",
        "#            optimizer.step()\n",
        "#            optimizer.zero_grad()\n",
        "#            \n",
        "#            # Record & update learning rate\n",
        "#            lrs.append(get_lr(optimizer))\n",
        "#            scheduler.step()\n",
        "#            \n",
        "#        #end_time = time.time()\n",
        "#        #tot_time = end_time-strt_time\n",
        "#        #print('Epoch training time:', tot_time, 'sec')\n",
        "#            \n",
        "#        # Validation phase \n",
        "#        result = evaluate(model, val_loader)\n",
        "#        result['train_loss'] = torch.stack(train_losses).mean().item()\n",
        "#        result['lrs'] = lrs\n",
        "#        model.epoch_end(epoch, result)\n",
        "#        history.append(result)\n",
        "#        \n",
        "#        #save_best_model(\n",
        "#        #result['val_loss'], epoch, model, optimizer, scheduler, criterion, path_name\n",
        "#    #)\n",
        "#    return history\n",
        "\n",
        "def fit(epochs, lr, model, train_loader, val_loader, opt_func, path_name):\n",
        "    torch.cuda.empty_cache()\n",
        "    history = []\n",
        "    optimizer = opt_func(model.parameters(), lr, weight_decay=0.1)\n",
        "    for epoch in range(epochs):\n",
        "\n",
        "        # Training Phase \n",
        "        print(\"Inizio del train\")\n",
        "        model.train()\n",
        "        train_losses = []\n",
        "        for batch_idx, batch in enumerate(train_loader):\n",
        "            loss = model.training_step(batch).detach().requires_grad_(True) #uso detach per provare a creare un nuovo tensore che possa fare il gradient descend\n",
        "            train_losses.append(loss)\n",
        "            loss.backward()\n",
        "            optimizer.step()\n",
        "            optimizer.zero_grad()\n",
        "\n",
        "        # Validation phase\n",
        "        print(\"Inizio fase di validazione\")\n",
        "        result = evaluate(model, val_loader)\n",
        "        print(\"Evaluate fatto\")\n",
        "        result['train_loss'] = torch.stack(train_losses).mean().item()\n",
        "        print(\"2 fatto\")\n",
        "        model.epoch_end(epoch, result)\n",
        "        print(\"3 fatto\")\n",
        "        history.append(result)\n",
        "\n",
        "        save_best_model(\n",
        "            result['val_loss'], epoch, model, optimizer, criterion, path_name\n",
        "        )\n",
        "\n",
        "    return history"
      ]
    },
    {
      "cell_type": "code",
      "execution_count": 35,
      "metadata": {
        "id": "qsNnIkzaHKPH"
      },
      "outputs": [],
      "source": [
        "num_epochs = 10\n",
        "opt_func = torch.optim.Adam\n",
        "lr=0.01"
      ]
    },
    {
      "cell_type": "code",
      "execution_count": 36,
      "metadata": {
        "colab": {
          "base_uri": "https://localhost:8080/"
        },
        "id": "nDBMzQVoO6kS",
        "outputId": "8b1dbea1-a2c9-46a5-dadd-c036af6807e1"
      },
      "outputs": [
        {
          "output_type": "stream",
          "name": "stdout",
          "text": [
            "CustomResNet(\n",
            "  (conv11): Sequential(\n",
            "    (0): Conv3d(45, 32, kernel_size=(1, 1, 1), stride=(1, 1, 1))\n",
            "    (1): BatchNorm3d(32, eps=0.001, momentum=0.1, affine=True, track_running_stats=True)\n",
            "    (2): LeakyReLU(negative_slope=0.01)\n",
            "  )\n",
            "  (conv12): Sequential(\n",
            "    (0): Conv3d(32, 32, kernel_size=(1, 1, 1), stride=(1, 1, 1))\n",
            "    (1): BatchNorm3d(32, eps=0.001, momentum=0.1, affine=True, track_running_stats=True)\n",
            "    (2): LeakyReLU(negative_slope=0.01)\n",
            "  )\n",
            "  (pool1): MaxPool3d(kernel_size=(2, 2, 1), stride=(2, 2, 1), padding=0, dilation=1, ceil_mode=False)\n",
            "  (conv21): Sequential(\n",
            "    (0): Conv3d(32, 64, kernel_size=(5, 5, 2), stride=(1, 1, 1))\n",
            "    (1): BatchNorm3d(64, eps=0.001, momentum=0.1, affine=True, track_running_stats=True)\n",
            "    (2): LeakyReLU(negative_slope=0.01)\n",
            "  )\n",
            "  (conv22): Sequential(\n",
            "    (0): Conv3d(64, 64, kernel_size=(5, 5, 2), stride=(1, 1, 1))\n",
            "    (1): BatchNorm3d(64, eps=0.001, momentum=0.1, affine=True, track_running_stats=True)\n",
            "    (2): LeakyReLU(negative_slope=0.01)\n",
            "  )\n",
            "  (pool2): MaxPool3d(kernel_size=(2, 2, 1), stride=(2, 2, 1), padding=0, dilation=1, ceil_mode=False)\n",
            "  (conv31): Sequential(\n",
            "    (0): Conv3d(64, 128, kernel_size=(5, 5, 2), stride=(1, 1, 1))\n",
            "    (1): BatchNorm3d(128, eps=0.001, momentum=0.1, affine=True, track_running_stats=True)\n",
            "    (2): LeakyReLU(negative_slope=0.01)\n",
            "  )\n",
            "  (conv32): Sequential(\n",
            "    (0): Conv3d(128, 128, kernel_size=(5, 5, 2), stride=(1, 1, 1))\n",
            "    (1): BatchNorm3d(128, eps=0.001, momentum=0.1, affine=True, track_running_stats=True)\n",
            "    (2): LeakyReLU(negative_slope=0.01)\n",
            "  )\n",
            "  (Aconv1): ConvTranspose3d(128, 64, kernel_size=(8, 8, 5), stride=(1, 1, 1))\n",
            "  (deconv1): ConvTranspose3d(128, 64, kernel_size=(8, 8, 5), stride=(1, 1, 1))\n",
            "  (Aconv2): Sequential(\n",
            "    (0): Conv3d(64, 32, kernel_size=(3, 3, 3), stride=(1, 1, 1), padding=(1, 1, 1))\n",
            "    (1): BatchNorm3d(32, eps=1e-05, momentum=0.1, affine=True, track_running_stats=True)\n",
            "    (2): LeakyReLU(negative_slope=0.01)\n",
            "  )\n",
            "  (deconv4): Sequential(\n",
            "    (0): Conv3d(32, 16, kernel_size=(3, 3, 3), stride=(1, 1, 1), padding=(1, 1, 1))\n",
            "    (1): BatchNorm3d(16, eps=1e-05, momentum=0.1, affine=True, track_running_stats=True)\n",
            "    (2): LeakyReLU(negative_slope=0.01)\n",
            "  )\n",
            "  (conv52): ConvTranspose3d(16, 8, kernel_size=(31, 31, 1), stride=(1, 1, 1))\n",
            "  (deconv61): ConvTranspose3d(8, 4, kernel_size=(21, 21, 1), stride=(1, 1, 1))\n",
            "  (deconv62): ConvTranspose3d(4, 1, kernel_size=(1, 1, 1), stride=(1, 1, 1))\n",
            ")\n"
          ]
        }
      ],
      "source": [
        "print(model)"
      ]
    },
    {
      "cell_type": "code",
      "execution_count": 37,
      "metadata": {
        "id": "nwKhOK2nSaNz"
      },
      "outputs": [],
      "source": [
        "#summary(model.cuda(), input_size=(2,45,60,60,40))\n"
      ]
    },
    {
      "cell_type": "code",
      "execution_count": 38,
      "metadata": {
        "colab": {
          "base_uri": "https://localhost:8080/"
        },
        "id": "S7gbthLgF115",
        "outputId": "e7d6097f-585b-4150-9e9b-3824335e36fa"
      },
      "outputs": [
        {
          "output_type": "stream",
          "name": "stdout",
          "text": [
            "Evaluate 1 fatto\n",
            "torch.Size([8, 32, 60, 60, 40])\n",
            "torch.Size([8, 32, 60, 60, 40])\n",
            "torch.Size([8, 32, 30, 30, 40])\n",
            "torch.Size([8, 64, 26, 26, 39])\n",
            "torch.Size([8, 64, 22, 22, 38])\n",
            "torch.Size([8, 64, 11, 11, 38])\n",
            "torch.Size([8, 128, 7, 7, 37])\n",
            "torch.Size([8, 128, 3, 3, 36])\n",
            "torch.Size([8, 64, 10, 10, 40])\n",
            "torch.Size([8, 32, 10, 10, 40])\n",
            "torch.Size([8, 16, 10, 10, 40])\n",
            "torch.Size([8, 8, 40, 40, 40])\n",
            "(8, 60, 60, 40) (8, 60, 60, 40)\n",
            "torch.Size([2, 32, 60, 60, 40])\n",
            "torch.Size([2, 32, 60, 60, 40])\n",
            "torch.Size([2, 32, 30, 30, 40])\n",
            "torch.Size([2, 64, 26, 26, 39])\n",
            "torch.Size([2, 64, 22, 22, 38])\n",
            "torch.Size([2, 64, 11, 11, 38])\n",
            "torch.Size([2, 128, 7, 7, 37])\n",
            "torch.Size([2, 128, 3, 3, 36])\n",
            "torch.Size([2, 64, 10, 10, 40])\n",
            "torch.Size([2, 32, 10, 10, 40])\n",
            "torch.Size([2, 16, 10, 10, 40])\n",
            "torch.Size([2, 8, 40, 40, 40])\n",
            "(2, 60, 60, 40) (2, 60, 60, 40)\n",
            "Evaluate 2 fatto\n"
          ]
        },
        {
          "output_type": "execute_result",
          "data": {
            "text/plain": [
              "{'val_loss': 1726.833740234375,\n",
              " 'mse': 1726.83349609375,\n",
              " 'nrmse': 1.0150902771617083,\n",
              " 'ssim': -2.0282840296204085e-07,\n",
              " 'psnr': -55.49750017373708}"
            ]
          },
          "metadata": {},
          "execution_count": 38
        }
      ],
      "source": [
        "evaluate(model, val_loader)"
      ]
    },
    {
      "cell_type": "code",
      "execution_count": 39,
      "metadata": {
        "id": "ccy-o5dTX8jB"
      },
      "outputs": [],
      "source": [
        "#history1 = []\n",
        "#history1 += fit_one_cycle(40, 0.01, model, train_loader, val_loader, weight_decay=0.01, grad_clip=20, opt_func=torch.optim.Adam)"
      ]
    },
    {
      "cell_type": "code",
      "execution_count": 40,
      "metadata": {
        "id": "hd0VBOGJAFKD"
      },
      "outputs": [],
      "source": [
        "# loss function\n",
        "criterion = nn.MSELoss()\n",
        "\n",
        "# optimizer \n",
        "optimizer = torch.optim.Adam(model.parameters(), lr = 0.001) #weight decay = 0.1\n",
        "\n",
        "# scheduler (none)\n",
        "\n",
        "# initialize SaveBestModel class\n",
        "save_best_model = SaveBestModel()\n"
      ]
    },
    {
      "cell_type": "code",
      "execution_count": 41,
      "metadata": {
        "colab": {
          "base_uri": "https://localhost:8080/"
        },
        "id": "CKA0DKM7HJAt",
        "outputId": "9b3a5b39-6e0f-40ec-bc9d-6c3d06ff99f0"
      },
      "outputs": [
        {
          "output_type": "stream",
          "name": "stdout",
          "text": [
            "Inizio del train\n",
            "torch.Size([8, 45, 60, 60, 40])\n",
            "torch.Size([8, 1, 60, 60, 40])\n",
            "torch.Size([8, 32, 60, 60, 40])\n",
            "torch.Size([8, 32, 60, 60, 40])\n",
            "torch.Size([8, 32, 30, 30, 40])\n",
            "torch.Size([8, 64, 26, 26, 39])\n",
            "torch.Size([8, 64, 22, 22, 38])\n",
            "torch.Size([8, 64, 11, 11, 38])\n",
            "torch.Size([8, 128, 7, 7, 37])\n",
            "torch.Size([8, 128, 3, 3, 36])\n",
            "torch.Size([8, 64, 10, 10, 40])\n",
            "torch.Size([8, 32, 10, 10, 40])\n",
            "torch.Size([8, 16, 10, 10, 40])\n",
            "torch.Size([8, 8, 40, 40, 40])\n",
            "torch.Size([8, 1, 60, 60, 40])\n",
            "Fine train\n",
            "torch.Size([8, 45, 60, 60, 40])\n",
            "torch.Size([8, 1, 60, 60, 40])\n",
            "torch.Size([8, 32, 60, 60, 40])\n",
            "torch.Size([8, 32, 60, 60, 40])\n",
            "torch.Size([8, 32, 30, 30, 40])\n",
            "torch.Size([8, 64, 26, 26, 39])\n",
            "torch.Size([8, 64, 22, 22, 38])\n",
            "torch.Size([8, 64, 11, 11, 38])\n",
            "torch.Size([8, 128, 7, 7, 37])\n",
            "torch.Size([8, 128, 3, 3, 36])\n",
            "torch.Size([8, 64, 10, 10, 40])\n",
            "torch.Size([8, 32, 10, 10, 40])\n",
            "torch.Size([8, 16, 10, 10, 40])\n",
            "torch.Size([8, 8, 40, 40, 40])\n",
            "torch.Size([8, 1, 60, 60, 40])\n",
            "Fine train\n",
            "torch.Size([8, 45, 60, 60, 40])\n",
            "torch.Size([8, 1, 60, 60, 40])\n",
            "torch.Size([8, 32, 60, 60, 40])\n",
            "torch.Size([8, 32, 60, 60, 40])\n",
            "torch.Size([8, 32, 30, 30, 40])\n",
            "torch.Size([8, 64, 26, 26, 39])\n",
            "torch.Size([8, 64, 22, 22, 38])\n",
            "torch.Size([8, 64, 11, 11, 38])\n",
            "torch.Size([8, 128, 7, 7, 37])\n",
            "torch.Size([8, 128, 3, 3, 36])\n",
            "torch.Size([8, 64, 10, 10, 40])\n",
            "torch.Size([8, 32, 10, 10, 40])\n",
            "torch.Size([8, 16, 10, 10, 40])\n",
            "torch.Size([8, 8, 40, 40, 40])\n",
            "torch.Size([8, 1, 60, 60, 40])\n",
            "Fine train\n",
            "torch.Size([8, 45, 60, 60, 40])\n",
            "torch.Size([8, 1, 60, 60, 40])\n",
            "torch.Size([8, 32, 60, 60, 40])\n",
            "torch.Size([8, 32, 60, 60, 40])\n",
            "torch.Size([8, 32, 30, 30, 40])\n",
            "torch.Size([8, 64, 26, 26, 39])\n",
            "torch.Size([8, 64, 22, 22, 38])\n",
            "torch.Size([8, 64, 11, 11, 38])\n",
            "torch.Size([8, 128, 7, 7, 37])\n",
            "torch.Size([8, 128, 3, 3, 36])\n",
            "torch.Size([8, 64, 10, 10, 40])\n",
            "torch.Size([8, 32, 10, 10, 40])\n",
            "torch.Size([8, 16, 10, 10, 40])\n",
            "torch.Size([8, 8, 40, 40, 40])\n",
            "torch.Size([8, 1, 60, 60, 40])\n",
            "Fine train\n",
            "torch.Size([3, 45, 60, 60, 40])\n",
            "torch.Size([3, 1, 60, 60, 40])\n",
            "torch.Size([3, 32, 60, 60, 40])\n",
            "torch.Size([3, 32, 60, 60, 40])\n",
            "torch.Size([3, 32, 30, 30, 40])\n",
            "torch.Size([3, 64, 26, 26, 39])\n",
            "torch.Size([3, 64, 22, 22, 38])\n",
            "torch.Size([3, 64, 11, 11, 38])\n",
            "torch.Size([3, 128, 7, 7, 37])\n",
            "torch.Size([3, 128, 3, 3, 36])\n",
            "torch.Size([3, 64, 10, 10, 40])\n",
            "torch.Size([3, 32, 10, 10, 40])\n",
            "torch.Size([3, 16, 10, 10, 40])\n",
            "torch.Size([3, 8, 40, 40, 40])\n",
            "torch.Size([3, 1, 60, 60, 40])\n",
            "Fine train\n",
            "Inizio fase di validazione\n",
            "Evaluate 1 fatto\n",
            "torch.Size([8, 32, 60, 60, 40])\n",
            "torch.Size([8, 32, 60, 60, 40])\n",
            "torch.Size([8, 32, 30, 30, 40])\n",
            "torch.Size([8, 64, 26, 26, 39])\n",
            "torch.Size([8, 64, 22, 22, 38])\n",
            "torch.Size([8, 64, 11, 11, 38])\n",
            "torch.Size([8, 128, 7, 7, 37])\n",
            "torch.Size([8, 128, 3, 3, 36])\n",
            "torch.Size([8, 64, 10, 10, 40])\n",
            "torch.Size([8, 32, 10, 10, 40])\n",
            "torch.Size([8, 16, 10, 10, 40])\n",
            "torch.Size([8, 8, 40, 40, 40])\n",
            "(8, 60, 60, 40) (8, 60, 60, 40)\n",
            "torch.Size([2, 32, 60, 60, 40])\n",
            "torch.Size([2, 32, 60, 60, 40])\n",
            "torch.Size([2, 32, 30, 30, 40])\n",
            "torch.Size([2, 64, 26, 26, 39])\n",
            "torch.Size([2, 64, 22, 22, 38])\n",
            "torch.Size([2, 64, 11, 11, 38])\n",
            "torch.Size([2, 128, 7, 7, 37])\n",
            "torch.Size([2, 128, 3, 3, 36])\n",
            "torch.Size([2, 64, 10, 10, 40])\n",
            "torch.Size([2, 32, 10, 10, 40])\n",
            "torch.Size([2, 16, 10, 10, 40])\n",
            "torch.Size([2, 8, 40, 40, 40])\n",
            "(2, 60, 60, 40) (2, 60, 60, 40)\n",
            "Evaluate 2 fatto\n",
            "Evaluate fatto\n",
            "2 fatto\n",
            "Epoch [1], train_loss: 1526.9838, val_loss: 1726.7874, mse: 1726.7876, nrmse: 1.0151, ssim: -0.0000, psnr: -59.6051\n",
            "3 fatto\n",
            "\n",
            "Best validation loss: 1726.787353515625\n",
            "\n",
            "Saving best model for epoch: 1\n",
            "\n",
            "Inizio del train\n",
            "torch.Size([8, 45, 60, 60, 40])\n",
            "torch.Size([8, 1, 60, 60, 40])\n",
            "torch.Size([8, 32, 60, 60, 40])\n",
            "torch.Size([8, 32, 60, 60, 40])\n",
            "torch.Size([8, 32, 30, 30, 40])\n",
            "torch.Size([8, 64, 26, 26, 39])\n",
            "torch.Size([8, 64, 22, 22, 38])\n",
            "torch.Size([8, 64, 11, 11, 38])\n",
            "torch.Size([8, 128, 7, 7, 37])\n",
            "torch.Size([8, 128, 3, 3, 36])\n",
            "torch.Size([8, 64, 10, 10, 40])\n",
            "torch.Size([8, 32, 10, 10, 40])\n",
            "torch.Size([8, 16, 10, 10, 40])\n",
            "torch.Size([8, 8, 40, 40, 40])\n",
            "torch.Size([8, 1, 60, 60, 40])\n",
            "Fine train\n",
            "torch.Size([8, 45, 60, 60, 40])\n",
            "torch.Size([8, 1, 60, 60, 40])\n",
            "torch.Size([8, 32, 60, 60, 40])\n",
            "torch.Size([8, 32, 60, 60, 40])\n",
            "torch.Size([8, 32, 30, 30, 40])\n",
            "torch.Size([8, 64, 26, 26, 39])\n",
            "torch.Size([8, 64, 22, 22, 38])\n",
            "torch.Size([8, 64, 11, 11, 38])\n",
            "torch.Size([8, 128, 7, 7, 37])\n",
            "torch.Size([8, 128, 3, 3, 36])\n",
            "torch.Size([8, 64, 10, 10, 40])\n",
            "torch.Size([8, 32, 10, 10, 40])\n",
            "torch.Size([8, 16, 10, 10, 40])\n",
            "torch.Size([8, 8, 40, 40, 40])\n",
            "torch.Size([8, 1, 60, 60, 40])\n",
            "Fine train\n",
            "torch.Size([8, 45, 60, 60, 40])\n",
            "torch.Size([8, 1, 60, 60, 40])\n",
            "torch.Size([8, 32, 60, 60, 40])\n",
            "torch.Size([8, 32, 60, 60, 40])\n",
            "torch.Size([8, 32, 30, 30, 40])\n",
            "torch.Size([8, 64, 26, 26, 39])\n",
            "torch.Size([8, 64, 22, 22, 38])\n",
            "torch.Size([8, 64, 11, 11, 38])\n",
            "torch.Size([8, 128, 7, 7, 37])\n",
            "torch.Size([8, 128, 3, 3, 36])\n",
            "torch.Size([8, 64, 10, 10, 40])\n",
            "torch.Size([8, 32, 10, 10, 40])\n",
            "torch.Size([8, 16, 10, 10, 40])\n",
            "torch.Size([8, 8, 40, 40, 40])\n",
            "torch.Size([8, 1, 60, 60, 40])\n",
            "Fine train\n",
            "torch.Size([8, 45, 60, 60, 40])\n",
            "torch.Size([8, 1, 60, 60, 40])\n",
            "torch.Size([8, 32, 60, 60, 40])\n",
            "torch.Size([8, 32, 60, 60, 40])\n",
            "torch.Size([8, 32, 30, 30, 40])\n",
            "torch.Size([8, 64, 26, 26, 39])\n",
            "torch.Size([8, 64, 22, 22, 38])\n",
            "torch.Size([8, 64, 11, 11, 38])\n",
            "torch.Size([8, 128, 7, 7, 37])\n",
            "torch.Size([8, 128, 3, 3, 36])\n",
            "torch.Size([8, 64, 10, 10, 40])\n",
            "torch.Size([8, 32, 10, 10, 40])\n",
            "torch.Size([8, 16, 10, 10, 40])\n",
            "torch.Size([8, 8, 40, 40, 40])\n",
            "torch.Size([8, 1, 60, 60, 40])\n",
            "Fine train\n",
            "torch.Size([3, 45, 60, 60, 40])\n",
            "torch.Size([3, 1, 60, 60, 40])\n",
            "torch.Size([3, 32, 60, 60, 40])\n",
            "torch.Size([3, 32, 60, 60, 40])\n",
            "torch.Size([3, 32, 30, 30, 40])\n",
            "torch.Size([3, 64, 26, 26, 39])\n",
            "torch.Size([3, 64, 22, 22, 38])\n",
            "torch.Size([3, 64, 11, 11, 38])\n",
            "torch.Size([3, 128, 7, 7, 37])\n",
            "torch.Size([3, 128, 3, 3, 36])\n",
            "torch.Size([3, 64, 10, 10, 40])\n",
            "torch.Size([3, 32, 10, 10, 40])\n",
            "torch.Size([3, 16, 10, 10, 40])\n",
            "torch.Size([3, 8, 40, 40, 40])\n",
            "torch.Size([3, 1, 60, 60, 40])\n",
            "Fine train\n",
            "Inizio fase di validazione\n",
            "Evaluate 1 fatto\n",
            "torch.Size([8, 32, 60, 60, 40])\n",
            "torch.Size([8, 32, 60, 60, 40])\n",
            "torch.Size([8, 32, 30, 30, 40])\n",
            "torch.Size([8, 64, 26, 26, 39])\n",
            "torch.Size([8, 64, 22, 22, 38])\n",
            "torch.Size([8, 64, 11, 11, 38])\n",
            "torch.Size([8, 128, 7, 7, 37])\n",
            "torch.Size([8, 128, 3, 3, 36])\n",
            "torch.Size([8, 64, 10, 10, 40])\n",
            "torch.Size([8, 32, 10, 10, 40])\n",
            "torch.Size([8, 16, 10, 10, 40])\n",
            "torch.Size([8, 8, 40, 40, 40])\n",
            "(8, 60, 60, 40) (8, 60, 60, 40)\n",
            "torch.Size([2, 32, 60, 60, 40])\n",
            "torch.Size([2, 32, 60, 60, 40])\n",
            "torch.Size([2, 32, 30, 30, 40])\n",
            "torch.Size([2, 64, 26, 26, 39])\n",
            "torch.Size([2, 64, 22, 22, 38])\n",
            "torch.Size([2, 64, 11, 11, 38])\n",
            "torch.Size([2, 128, 7, 7, 37])\n",
            "torch.Size([2, 128, 3, 3, 36])\n",
            "torch.Size([2, 64, 10, 10, 40])\n",
            "torch.Size([2, 32, 10, 10, 40])\n",
            "torch.Size([2, 16, 10, 10, 40])\n",
            "torch.Size([2, 8, 40, 40, 40])\n",
            "(2, 60, 60, 40) (2, 60, 60, 40)\n",
            "Evaluate 2 fatto\n",
            "Evaluate fatto\n",
            "2 fatto\n",
            "Epoch [2], train_loss: 1633.4639, val_loss: 1726.7419, mse: 1726.7419, nrmse: 1.0151, ssim: -0.0000, psnr: -53.6829\n",
            "3 fatto\n",
            "\n",
            "Best validation loss: 1726.741943359375\n",
            "\n",
            "Saving best model for epoch: 2\n",
            "\n",
            "Inizio del train\n",
            "torch.Size([8, 45, 60, 60, 40])\n",
            "torch.Size([8, 1, 60, 60, 40])\n",
            "torch.Size([8, 32, 60, 60, 40])\n",
            "torch.Size([8, 32, 60, 60, 40])\n",
            "torch.Size([8, 32, 30, 30, 40])\n",
            "torch.Size([8, 64, 26, 26, 39])\n",
            "torch.Size([8, 64, 22, 22, 38])\n",
            "torch.Size([8, 64, 11, 11, 38])\n",
            "torch.Size([8, 128, 7, 7, 37])\n",
            "torch.Size([8, 128, 3, 3, 36])\n",
            "torch.Size([8, 64, 10, 10, 40])\n",
            "torch.Size([8, 32, 10, 10, 40])\n",
            "torch.Size([8, 16, 10, 10, 40])\n",
            "torch.Size([8, 8, 40, 40, 40])\n",
            "torch.Size([8, 1, 60, 60, 40])\n",
            "Fine train\n",
            "torch.Size([8, 45, 60, 60, 40])\n",
            "torch.Size([8, 1, 60, 60, 40])\n",
            "torch.Size([8, 32, 60, 60, 40])\n",
            "torch.Size([8, 32, 60, 60, 40])\n",
            "torch.Size([8, 32, 30, 30, 40])\n",
            "torch.Size([8, 64, 26, 26, 39])\n",
            "torch.Size([8, 64, 22, 22, 38])\n",
            "torch.Size([8, 64, 11, 11, 38])\n",
            "torch.Size([8, 128, 7, 7, 37])\n",
            "torch.Size([8, 128, 3, 3, 36])\n",
            "torch.Size([8, 64, 10, 10, 40])\n",
            "torch.Size([8, 32, 10, 10, 40])\n",
            "torch.Size([8, 16, 10, 10, 40])\n",
            "torch.Size([8, 8, 40, 40, 40])\n",
            "torch.Size([8, 1, 60, 60, 40])\n",
            "Fine train\n",
            "torch.Size([8, 45, 60, 60, 40])\n",
            "torch.Size([8, 1, 60, 60, 40])\n",
            "torch.Size([8, 32, 60, 60, 40])\n",
            "torch.Size([8, 32, 60, 60, 40])\n",
            "torch.Size([8, 32, 30, 30, 40])\n",
            "torch.Size([8, 64, 26, 26, 39])\n",
            "torch.Size([8, 64, 22, 22, 38])\n",
            "torch.Size([8, 64, 11, 11, 38])\n",
            "torch.Size([8, 128, 7, 7, 37])\n",
            "torch.Size([8, 128, 3, 3, 36])\n",
            "torch.Size([8, 64, 10, 10, 40])\n",
            "torch.Size([8, 32, 10, 10, 40])\n",
            "torch.Size([8, 16, 10, 10, 40])\n",
            "torch.Size([8, 8, 40, 40, 40])\n",
            "torch.Size([8, 1, 60, 60, 40])\n",
            "Fine train\n",
            "torch.Size([8, 45, 60, 60, 40])\n",
            "torch.Size([8, 1, 60, 60, 40])\n",
            "torch.Size([8, 32, 60, 60, 40])\n",
            "torch.Size([8, 32, 60, 60, 40])\n",
            "torch.Size([8, 32, 30, 30, 40])\n",
            "torch.Size([8, 64, 26, 26, 39])\n",
            "torch.Size([8, 64, 22, 22, 38])\n",
            "torch.Size([8, 64, 11, 11, 38])\n",
            "torch.Size([8, 128, 7, 7, 37])\n",
            "torch.Size([8, 128, 3, 3, 36])\n",
            "torch.Size([8, 64, 10, 10, 40])\n",
            "torch.Size([8, 32, 10, 10, 40])\n",
            "torch.Size([8, 16, 10, 10, 40])\n",
            "torch.Size([8, 8, 40, 40, 40])\n",
            "torch.Size([8, 1, 60, 60, 40])\n",
            "Fine train\n",
            "torch.Size([3, 45, 60, 60, 40])\n",
            "torch.Size([3, 1, 60, 60, 40])\n",
            "torch.Size([3, 32, 60, 60, 40])\n",
            "torch.Size([3, 32, 60, 60, 40])\n",
            "torch.Size([3, 32, 30, 30, 40])\n",
            "torch.Size([3, 64, 26, 26, 39])\n",
            "torch.Size([3, 64, 22, 22, 38])\n",
            "torch.Size([3, 64, 11, 11, 38])\n",
            "torch.Size([3, 128, 7, 7, 37])\n",
            "torch.Size([3, 128, 3, 3, 36])\n",
            "torch.Size([3, 64, 10, 10, 40])\n",
            "torch.Size([3, 32, 10, 10, 40])\n",
            "torch.Size([3, 16, 10, 10, 40])\n",
            "torch.Size([3, 8, 40, 40, 40])\n",
            "torch.Size([3, 1, 60, 60, 40])\n",
            "Fine train\n",
            "Inizio fase di validazione\n",
            "Evaluate 1 fatto\n",
            "torch.Size([8, 32, 60, 60, 40])\n",
            "torch.Size([8, 32, 60, 60, 40])\n",
            "torch.Size([8, 32, 30, 30, 40])\n",
            "torch.Size([8, 64, 26, 26, 39])\n",
            "torch.Size([8, 64, 22, 22, 38])\n",
            "torch.Size([8, 64, 11, 11, 38])\n",
            "torch.Size([8, 128, 7, 7, 37])\n",
            "torch.Size([8, 128, 3, 3, 36])\n",
            "torch.Size([8, 64, 10, 10, 40])\n",
            "torch.Size([8, 32, 10, 10, 40])\n",
            "torch.Size([8, 16, 10, 10, 40])\n",
            "torch.Size([8, 8, 40, 40, 40])\n",
            "(8, 60, 60, 40) (8, 60, 60, 40)\n",
            "torch.Size([2, 32, 60, 60, 40])\n",
            "torch.Size([2, 32, 60, 60, 40])\n",
            "torch.Size([2, 32, 30, 30, 40])\n",
            "torch.Size([2, 64, 26, 26, 39])\n",
            "torch.Size([2, 64, 22, 22, 38])\n",
            "torch.Size([2, 64, 11, 11, 38])\n",
            "torch.Size([2, 128, 7, 7, 37])\n",
            "torch.Size([2, 128, 3, 3, 36])\n",
            "torch.Size([2, 64, 10, 10, 40])\n",
            "torch.Size([2, 32, 10, 10, 40])\n",
            "torch.Size([2, 16, 10, 10, 40])\n",
            "torch.Size([2, 8, 40, 40, 40])\n",
            "(2, 60, 60, 40) (2, 60, 60, 40)\n",
            "Evaluate 2 fatto\n",
            "Evaluate fatto\n",
            "2 fatto\n",
            "Epoch [3], train_loss: 1525.8336, val_loss: 1726.7067, mse: 1726.7069, nrmse: 1.0151, ssim: -0.0000, psnr: -50.4202\n",
            "3 fatto\n",
            "\n",
            "Best validation loss: 1726.7066650390625\n",
            "\n",
            "Saving best model for epoch: 3\n",
            "\n",
            "Inizio del train\n",
            "torch.Size([8, 45, 60, 60, 40])\n",
            "torch.Size([8, 1, 60, 60, 40])\n",
            "torch.Size([8, 32, 60, 60, 40])\n",
            "torch.Size([8, 32, 60, 60, 40])\n",
            "torch.Size([8, 32, 30, 30, 40])\n",
            "torch.Size([8, 64, 26, 26, 39])\n",
            "torch.Size([8, 64, 22, 22, 38])\n",
            "torch.Size([8, 64, 11, 11, 38])\n",
            "torch.Size([8, 128, 7, 7, 37])\n",
            "torch.Size([8, 128, 3, 3, 36])\n",
            "torch.Size([8, 64, 10, 10, 40])\n",
            "torch.Size([8, 32, 10, 10, 40])\n",
            "torch.Size([8, 16, 10, 10, 40])\n",
            "torch.Size([8, 8, 40, 40, 40])\n",
            "torch.Size([8, 1, 60, 60, 40])\n",
            "Fine train\n",
            "torch.Size([8, 45, 60, 60, 40])\n",
            "torch.Size([8, 1, 60, 60, 40])\n",
            "torch.Size([8, 32, 60, 60, 40])\n",
            "torch.Size([8, 32, 60, 60, 40])\n",
            "torch.Size([8, 32, 30, 30, 40])\n",
            "torch.Size([8, 64, 26, 26, 39])\n",
            "torch.Size([8, 64, 22, 22, 38])\n",
            "torch.Size([8, 64, 11, 11, 38])\n",
            "torch.Size([8, 128, 7, 7, 37])\n",
            "torch.Size([8, 128, 3, 3, 36])\n",
            "torch.Size([8, 64, 10, 10, 40])\n",
            "torch.Size([8, 32, 10, 10, 40])\n",
            "torch.Size([8, 16, 10, 10, 40])\n",
            "torch.Size([8, 8, 40, 40, 40])\n",
            "torch.Size([8, 1, 60, 60, 40])\n",
            "Fine train\n",
            "torch.Size([8, 45, 60, 60, 40])\n",
            "torch.Size([8, 1, 60, 60, 40])\n",
            "torch.Size([8, 32, 60, 60, 40])\n",
            "torch.Size([8, 32, 60, 60, 40])\n",
            "torch.Size([8, 32, 30, 30, 40])\n",
            "torch.Size([8, 64, 26, 26, 39])\n",
            "torch.Size([8, 64, 22, 22, 38])\n",
            "torch.Size([8, 64, 11, 11, 38])\n",
            "torch.Size([8, 128, 7, 7, 37])\n",
            "torch.Size([8, 128, 3, 3, 36])\n",
            "torch.Size([8, 64, 10, 10, 40])\n",
            "torch.Size([8, 32, 10, 10, 40])\n",
            "torch.Size([8, 16, 10, 10, 40])\n",
            "torch.Size([8, 8, 40, 40, 40])\n",
            "torch.Size([8, 1, 60, 60, 40])\n",
            "Fine train\n",
            "torch.Size([8, 45, 60, 60, 40])\n",
            "torch.Size([8, 1, 60, 60, 40])\n",
            "torch.Size([8, 32, 60, 60, 40])\n",
            "torch.Size([8, 32, 60, 60, 40])\n",
            "torch.Size([8, 32, 30, 30, 40])\n",
            "torch.Size([8, 64, 26, 26, 39])\n",
            "torch.Size([8, 64, 22, 22, 38])\n",
            "torch.Size([8, 64, 11, 11, 38])\n",
            "torch.Size([8, 128, 7, 7, 37])\n",
            "torch.Size([8, 128, 3, 3, 36])\n",
            "torch.Size([8, 64, 10, 10, 40])\n",
            "torch.Size([8, 32, 10, 10, 40])\n",
            "torch.Size([8, 16, 10, 10, 40])\n",
            "torch.Size([8, 8, 40, 40, 40])\n",
            "torch.Size([8, 1, 60, 60, 40])\n",
            "Fine train\n",
            "torch.Size([3, 45, 60, 60, 40])\n",
            "torch.Size([3, 1, 60, 60, 40])\n",
            "torch.Size([3, 32, 60, 60, 40])\n",
            "torch.Size([3, 32, 60, 60, 40])\n",
            "torch.Size([3, 32, 30, 30, 40])\n",
            "torch.Size([3, 64, 26, 26, 39])\n",
            "torch.Size([3, 64, 22, 22, 38])\n",
            "torch.Size([3, 64, 11, 11, 38])\n",
            "torch.Size([3, 128, 7, 7, 37])\n",
            "torch.Size([3, 128, 3, 3, 36])\n",
            "torch.Size([3, 64, 10, 10, 40])\n",
            "torch.Size([3, 32, 10, 10, 40])\n",
            "torch.Size([3, 16, 10, 10, 40])\n",
            "torch.Size([3, 8, 40, 40, 40])\n",
            "torch.Size([3, 1, 60, 60, 40])\n",
            "Fine train\n",
            "Inizio fase di validazione\n",
            "Evaluate 1 fatto\n",
            "torch.Size([8, 32, 60, 60, 40])\n",
            "torch.Size([8, 32, 60, 60, 40])\n",
            "torch.Size([8, 32, 30, 30, 40])\n",
            "torch.Size([8, 64, 26, 26, 39])\n",
            "torch.Size([8, 64, 22, 22, 38])\n",
            "torch.Size([8, 64, 11, 11, 38])\n",
            "torch.Size([8, 128, 7, 7, 37])\n",
            "torch.Size([8, 128, 3, 3, 36])\n",
            "torch.Size([8, 64, 10, 10, 40])\n",
            "torch.Size([8, 32, 10, 10, 40])\n",
            "torch.Size([8, 16, 10, 10, 40])\n",
            "torch.Size([8, 8, 40, 40, 40])\n",
            "(8, 60, 60, 40) (8, 60, 60, 40)\n",
            "torch.Size([2, 32, 60, 60, 40])\n",
            "torch.Size([2, 32, 60, 60, 40])\n",
            "torch.Size([2, 32, 30, 30, 40])\n",
            "torch.Size([2, 64, 26, 26, 39])\n",
            "torch.Size([2, 64, 22, 22, 38])\n",
            "torch.Size([2, 64, 11, 11, 38])\n",
            "torch.Size([2, 128, 7, 7, 37])\n",
            "torch.Size([2, 128, 3, 3, 36])\n",
            "torch.Size([2, 64, 10, 10, 40])\n",
            "torch.Size([2, 32, 10, 10, 40])\n",
            "torch.Size([2, 16, 10, 10, 40])\n",
            "torch.Size([2, 8, 40, 40, 40])\n",
            "(2, 60, 60, 40) (2, 60, 60, 40)\n",
            "Evaluate 2 fatto\n",
            "Evaluate fatto\n",
            "2 fatto\n",
            "Epoch [4], train_loss: 1618.5682, val_loss: 1726.6831, mse: 1726.6831, nrmse: 1.0150, ssim: -0.0000, psnr: -48.2368\n",
            "3 fatto\n",
            "\n",
            "Best validation loss: 1726.68310546875\n",
            "\n",
            "Saving best model for epoch: 4\n",
            "\n",
            "Inizio del train\n",
            "torch.Size([8, 45, 60, 60, 40])\n",
            "torch.Size([8, 1, 60, 60, 40])\n",
            "torch.Size([8, 32, 60, 60, 40])\n",
            "torch.Size([8, 32, 60, 60, 40])\n",
            "torch.Size([8, 32, 30, 30, 40])\n",
            "torch.Size([8, 64, 26, 26, 39])\n",
            "torch.Size([8, 64, 22, 22, 38])\n",
            "torch.Size([8, 64, 11, 11, 38])\n",
            "torch.Size([8, 128, 7, 7, 37])\n",
            "torch.Size([8, 128, 3, 3, 36])\n",
            "torch.Size([8, 64, 10, 10, 40])\n",
            "torch.Size([8, 32, 10, 10, 40])\n",
            "torch.Size([8, 16, 10, 10, 40])\n",
            "torch.Size([8, 8, 40, 40, 40])\n",
            "torch.Size([8, 1, 60, 60, 40])\n",
            "Fine train\n",
            "torch.Size([8, 45, 60, 60, 40])\n",
            "torch.Size([8, 1, 60, 60, 40])\n",
            "torch.Size([8, 32, 60, 60, 40])\n",
            "torch.Size([8, 32, 60, 60, 40])\n",
            "torch.Size([8, 32, 30, 30, 40])\n",
            "torch.Size([8, 64, 26, 26, 39])\n",
            "torch.Size([8, 64, 22, 22, 38])\n",
            "torch.Size([8, 64, 11, 11, 38])\n",
            "torch.Size([8, 128, 7, 7, 37])\n",
            "torch.Size([8, 128, 3, 3, 36])\n",
            "torch.Size([8, 64, 10, 10, 40])\n",
            "torch.Size([8, 32, 10, 10, 40])\n",
            "torch.Size([8, 16, 10, 10, 40])\n",
            "torch.Size([8, 8, 40, 40, 40])\n",
            "torch.Size([8, 1, 60, 60, 40])\n",
            "Fine train\n",
            "torch.Size([8, 45, 60, 60, 40])\n",
            "torch.Size([8, 1, 60, 60, 40])\n",
            "torch.Size([8, 32, 60, 60, 40])\n",
            "torch.Size([8, 32, 60, 60, 40])\n",
            "torch.Size([8, 32, 30, 30, 40])\n",
            "torch.Size([8, 64, 26, 26, 39])\n",
            "torch.Size([8, 64, 22, 22, 38])\n",
            "torch.Size([8, 64, 11, 11, 38])\n",
            "torch.Size([8, 128, 7, 7, 37])\n",
            "torch.Size([8, 128, 3, 3, 36])\n",
            "torch.Size([8, 64, 10, 10, 40])\n",
            "torch.Size([8, 32, 10, 10, 40])\n",
            "torch.Size([8, 16, 10, 10, 40])\n",
            "torch.Size([8, 8, 40, 40, 40])\n",
            "torch.Size([8, 1, 60, 60, 40])\n",
            "Fine train\n",
            "torch.Size([8, 45, 60, 60, 40])\n",
            "torch.Size([8, 1, 60, 60, 40])\n",
            "torch.Size([8, 32, 60, 60, 40])\n",
            "torch.Size([8, 32, 60, 60, 40])\n",
            "torch.Size([8, 32, 30, 30, 40])\n",
            "torch.Size([8, 64, 26, 26, 39])\n",
            "torch.Size([8, 64, 22, 22, 38])\n",
            "torch.Size([8, 64, 11, 11, 38])\n",
            "torch.Size([8, 128, 7, 7, 37])\n",
            "torch.Size([8, 128, 3, 3, 36])\n",
            "torch.Size([8, 64, 10, 10, 40])\n",
            "torch.Size([8, 32, 10, 10, 40])\n",
            "torch.Size([8, 16, 10, 10, 40])\n",
            "torch.Size([8, 8, 40, 40, 40])\n",
            "torch.Size([8, 1, 60, 60, 40])\n",
            "Fine train\n",
            "torch.Size([3, 45, 60, 60, 40])\n",
            "torch.Size([3, 1, 60, 60, 40])\n",
            "torch.Size([3, 32, 60, 60, 40])\n",
            "torch.Size([3, 32, 60, 60, 40])\n",
            "torch.Size([3, 32, 30, 30, 40])\n",
            "torch.Size([3, 64, 26, 26, 39])\n",
            "torch.Size([3, 64, 22, 22, 38])\n",
            "torch.Size([3, 64, 11, 11, 38])\n",
            "torch.Size([3, 128, 7, 7, 37])\n",
            "torch.Size([3, 128, 3, 3, 36])\n",
            "torch.Size([3, 64, 10, 10, 40])\n",
            "torch.Size([3, 32, 10, 10, 40])\n",
            "torch.Size([3, 16, 10, 10, 40])\n",
            "torch.Size([3, 8, 40, 40, 40])\n",
            "torch.Size([3, 1, 60, 60, 40])\n",
            "Fine train\n",
            "Inizio fase di validazione\n",
            "Evaluate 1 fatto\n",
            "torch.Size([8, 32, 60, 60, 40])\n",
            "torch.Size([8, 32, 60, 60, 40])\n",
            "torch.Size([8, 32, 30, 30, 40])\n",
            "torch.Size([8, 64, 26, 26, 39])\n",
            "torch.Size([8, 64, 22, 22, 38])\n",
            "torch.Size([8, 64, 11, 11, 38])\n",
            "torch.Size([8, 128, 7, 7, 37])\n",
            "torch.Size([8, 128, 3, 3, 36])\n",
            "torch.Size([8, 64, 10, 10, 40])\n",
            "torch.Size([8, 32, 10, 10, 40])\n",
            "torch.Size([8, 16, 10, 10, 40])\n",
            "torch.Size([8, 8, 40, 40, 40])\n",
            "(8, 60, 60, 40) (8, 60, 60, 40)\n",
            "torch.Size([2, 32, 60, 60, 40])\n",
            "torch.Size([2, 32, 60, 60, 40])\n",
            "torch.Size([2, 32, 30, 30, 40])\n",
            "torch.Size([2, 64, 26, 26, 39])\n",
            "torch.Size([2, 64, 22, 22, 38])\n",
            "torch.Size([2, 64, 11, 11, 38])\n",
            "torch.Size([2, 128, 7, 7, 37])\n",
            "torch.Size([2, 128, 3, 3, 36])\n",
            "torch.Size([2, 64, 10, 10, 40])\n",
            "torch.Size([2, 32, 10, 10, 40])\n",
            "torch.Size([2, 16, 10, 10, 40])\n",
            "torch.Size([2, 8, 40, 40, 40])\n",
            "(2, 60, 60, 40) (2, 60, 60, 40)\n",
            "Evaluate 2 fatto\n",
            "Evaluate fatto\n",
            "2 fatto\n",
            "Epoch [5], train_loss: 1572.6663, val_loss: 1726.6726, mse: 1726.6729, nrmse: 1.0150, ssim: 0.0000, psnr: -46.3502\n",
            "3 fatto\n",
            "\n",
            "Best validation loss: 1726.672607421875\n",
            "\n",
            "Saving best model for epoch: 5\n",
            "\n",
            "Inizio del train\n",
            "torch.Size([8, 45, 60, 60, 40])\n",
            "torch.Size([8, 1, 60, 60, 40])\n",
            "torch.Size([8, 32, 60, 60, 40])\n",
            "torch.Size([8, 32, 60, 60, 40])\n",
            "torch.Size([8, 32, 30, 30, 40])\n",
            "torch.Size([8, 64, 26, 26, 39])\n",
            "torch.Size([8, 64, 22, 22, 38])\n",
            "torch.Size([8, 64, 11, 11, 38])\n",
            "torch.Size([8, 128, 7, 7, 37])\n",
            "torch.Size([8, 128, 3, 3, 36])\n",
            "torch.Size([8, 64, 10, 10, 40])\n",
            "torch.Size([8, 32, 10, 10, 40])\n",
            "torch.Size([8, 16, 10, 10, 40])\n",
            "torch.Size([8, 8, 40, 40, 40])\n",
            "torch.Size([8, 1, 60, 60, 40])\n",
            "Fine train\n",
            "torch.Size([8, 45, 60, 60, 40])\n",
            "torch.Size([8, 1, 60, 60, 40])\n",
            "torch.Size([8, 32, 60, 60, 40])\n",
            "torch.Size([8, 32, 60, 60, 40])\n",
            "torch.Size([8, 32, 30, 30, 40])\n",
            "torch.Size([8, 64, 26, 26, 39])\n",
            "torch.Size([8, 64, 22, 22, 38])\n",
            "torch.Size([8, 64, 11, 11, 38])\n",
            "torch.Size([8, 128, 7, 7, 37])\n",
            "torch.Size([8, 128, 3, 3, 36])\n",
            "torch.Size([8, 64, 10, 10, 40])\n",
            "torch.Size([8, 32, 10, 10, 40])\n",
            "torch.Size([8, 16, 10, 10, 40])\n",
            "torch.Size([8, 8, 40, 40, 40])\n",
            "torch.Size([8, 1, 60, 60, 40])\n",
            "Fine train\n",
            "torch.Size([8, 45, 60, 60, 40])\n",
            "torch.Size([8, 1, 60, 60, 40])\n",
            "torch.Size([8, 32, 60, 60, 40])\n",
            "torch.Size([8, 32, 60, 60, 40])\n",
            "torch.Size([8, 32, 30, 30, 40])\n",
            "torch.Size([8, 64, 26, 26, 39])\n",
            "torch.Size([8, 64, 22, 22, 38])\n",
            "torch.Size([8, 64, 11, 11, 38])\n",
            "torch.Size([8, 128, 7, 7, 37])\n",
            "torch.Size([8, 128, 3, 3, 36])\n",
            "torch.Size([8, 64, 10, 10, 40])\n",
            "torch.Size([8, 32, 10, 10, 40])\n",
            "torch.Size([8, 16, 10, 10, 40])\n",
            "torch.Size([8, 8, 40, 40, 40])\n",
            "torch.Size([8, 1, 60, 60, 40])\n",
            "Fine train\n",
            "torch.Size([8, 45, 60, 60, 40])\n",
            "torch.Size([8, 1, 60, 60, 40])\n",
            "torch.Size([8, 32, 60, 60, 40])\n",
            "torch.Size([8, 32, 60, 60, 40])\n",
            "torch.Size([8, 32, 30, 30, 40])\n",
            "torch.Size([8, 64, 26, 26, 39])\n",
            "torch.Size([8, 64, 22, 22, 38])\n",
            "torch.Size([8, 64, 11, 11, 38])\n",
            "torch.Size([8, 128, 7, 7, 37])\n",
            "torch.Size([8, 128, 3, 3, 36])\n",
            "torch.Size([8, 64, 10, 10, 40])\n",
            "torch.Size([8, 32, 10, 10, 40])\n",
            "torch.Size([8, 16, 10, 10, 40])\n",
            "torch.Size([8, 8, 40, 40, 40])\n",
            "torch.Size([8, 1, 60, 60, 40])\n",
            "Fine train\n",
            "torch.Size([3, 45, 60, 60, 40])\n",
            "torch.Size([3, 1, 60, 60, 40])\n",
            "torch.Size([3, 32, 60, 60, 40])\n",
            "torch.Size([3, 32, 60, 60, 40])\n",
            "torch.Size([3, 32, 30, 30, 40])\n",
            "torch.Size([3, 64, 26, 26, 39])\n",
            "torch.Size([3, 64, 22, 22, 38])\n",
            "torch.Size([3, 64, 11, 11, 38])\n",
            "torch.Size([3, 128, 7, 7, 37])\n",
            "torch.Size([3, 128, 3, 3, 36])\n",
            "torch.Size([3, 64, 10, 10, 40])\n",
            "torch.Size([3, 32, 10, 10, 40])\n",
            "torch.Size([3, 16, 10, 10, 40])\n",
            "torch.Size([3, 8, 40, 40, 40])\n",
            "torch.Size([3, 1, 60, 60, 40])\n",
            "Fine train\n",
            "Inizio fase di validazione\n",
            "Evaluate 1 fatto\n",
            "torch.Size([8, 32, 60, 60, 40])\n",
            "torch.Size([8, 32, 60, 60, 40])\n",
            "torch.Size([8, 32, 30, 30, 40])\n",
            "torch.Size([8, 64, 26, 26, 39])\n",
            "torch.Size([8, 64, 22, 22, 38])\n",
            "torch.Size([8, 64, 11, 11, 38])\n",
            "torch.Size([8, 128, 7, 7, 37])\n",
            "torch.Size([8, 128, 3, 3, 36])\n",
            "torch.Size([8, 64, 10, 10, 40])\n",
            "torch.Size([8, 32, 10, 10, 40])\n",
            "torch.Size([8, 16, 10, 10, 40])\n",
            "torch.Size([8, 8, 40, 40, 40])\n",
            "(8, 60, 60, 40) (8, 60, 60, 40)\n",
            "torch.Size([2, 32, 60, 60, 40])\n",
            "torch.Size([2, 32, 60, 60, 40])\n",
            "torch.Size([2, 32, 30, 30, 40])\n",
            "torch.Size([2, 64, 26, 26, 39])\n",
            "torch.Size([2, 64, 22, 22, 38])\n",
            "torch.Size([2, 64, 11, 11, 38])\n",
            "torch.Size([2, 128, 7, 7, 37])\n",
            "torch.Size([2, 128, 3, 3, 36])\n",
            "torch.Size([2, 64, 10, 10, 40])\n",
            "torch.Size([2, 32, 10, 10, 40])\n",
            "torch.Size([2, 16, 10, 10, 40])\n",
            "torch.Size([2, 8, 40, 40, 40])\n",
            "(2, 60, 60, 40) (2, 60, 60, 40)\n",
            "Evaluate 2 fatto\n",
            "Evaluate fatto\n",
            "2 fatto\n",
            "Epoch [6], train_loss: 1619.2053, val_loss: 1726.6750, mse: 1726.6750, nrmse: 1.0150, ssim: 0.0000, psnr: -44.1734\n",
            "3 fatto\n",
            "Inizio del train\n",
            "torch.Size([8, 45, 60, 60, 40])\n",
            "torch.Size([8, 1, 60, 60, 40])\n",
            "torch.Size([8, 32, 60, 60, 40])\n",
            "torch.Size([8, 32, 60, 60, 40])\n",
            "torch.Size([8, 32, 30, 30, 40])\n",
            "torch.Size([8, 64, 26, 26, 39])\n",
            "torch.Size([8, 64, 22, 22, 38])\n",
            "torch.Size([8, 64, 11, 11, 38])\n",
            "torch.Size([8, 128, 7, 7, 37])\n",
            "torch.Size([8, 128, 3, 3, 36])\n",
            "torch.Size([8, 64, 10, 10, 40])\n",
            "torch.Size([8, 32, 10, 10, 40])\n",
            "torch.Size([8, 16, 10, 10, 40])\n",
            "torch.Size([8, 8, 40, 40, 40])\n",
            "torch.Size([8, 1, 60, 60, 40])\n",
            "Fine train\n",
            "torch.Size([8, 45, 60, 60, 40])\n",
            "torch.Size([8, 1, 60, 60, 40])\n",
            "torch.Size([8, 32, 60, 60, 40])\n",
            "torch.Size([8, 32, 60, 60, 40])\n",
            "torch.Size([8, 32, 30, 30, 40])\n",
            "torch.Size([8, 64, 26, 26, 39])\n",
            "torch.Size([8, 64, 22, 22, 38])\n",
            "torch.Size([8, 64, 11, 11, 38])\n",
            "torch.Size([8, 128, 7, 7, 37])\n",
            "torch.Size([8, 128, 3, 3, 36])\n",
            "torch.Size([8, 64, 10, 10, 40])\n",
            "torch.Size([8, 32, 10, 10, 40])\n",
            "torch.Size([8, 16, 10, 10, 40])\n",
            "torch.Size([8, 8, 40, 40, 40])\n",
            "torch.Size([8, 1, 60, 60, 40])\n",
            "Fine train\n",
            "torch.Size([8, 45, 60, 60, 40])\n",
            "torch.Size([8, 1, 60, 60, 40])\n",
            "torch.Size([8, 32, 60, 60, 40])\n",
            "torch.Size([8, 32, 60, 60, 40])\n",
            "torch.Size([8, 32, 30, 30, 40])\n",
            "torch.Size([8, 64, 26, 26, 39])\n",
            "torch.Size([8, 64, 22, 22, 38])\n",
            "torch.Size([8, 64, 11, 11, 38])\n",
            "torch.Size([8, 128, 7, 7, 37])\n",
            "torch.Size([8, 128, 3, 3, 36])\n",
            "torch.Size([8, 64, 10, 10, 40])\n",
            "torch.Size([8, 32, 10, 10, 40])\n",
            "torch.Size([8, 16, 10, 10, 40])\n",
            "torch.Size([8, 8, 40, 40, 40])\n",
            "torch.Size([8, 1, 60, 60, 40])\n",
            "Fine train\n",
            "torch.Size([8, 45, 60, 60, 40])\n",
            "torch.Size([8, 1, 60, 60, 40])\n",
            "torch.Size([8, 32, 60, 60, 40])\n",
            "torch.Size([8, 32, 60, 60, 40])\n",
            "torch.Size([8, 32, 30, 30, 40])\n",
            "torch.Size([8, 64, 26, 26, 39])\n",
            "torch.Size([8, 64, 22, 22, 38])\n",
            "torch.Size([8, 64, 11, 11, 38])\n",
            "torch.Size([8, 128, 7, 7, 37])\n",
            "torch.Size([8, 128, 3, 3, 36])\n",
            "torch.Size([8, 64, 10, 10, 40])\n",
            "torch.Size([8, 32, 10, 10, 40])\n",
            "torch.Size([8, 16, 10, 10, 40])\n",
            "torch.Size([8, 8, 40, 40, 40])\n",
            "torch.Size([8, 1, 60, 60, 40])\n",
            "Fine train\n",
            "torch.Size([3, 45, 60, 60, 40])\n",
            "torch.Size([3, 1, 60, 60, 40])\n",
            "torch.Size([3, 32, 60, 60, 40])\n",
            "torch.Size([3, 32, 60, 60, 40])\n",
            "torch.Size([3, 32, 30, 30, 40])\n",
            "torch.Size([3, 64, 26, 26, 39])\n",
            "torch.Size([3, 64, 22, 22, 38])\n",
            "torch.Size([3, 64, 11, 11, 38])\n",
            "torch.Size([3, 128, 7, 7, 37])\n",
            "torch.Size([3, 128, 3, 3, 36])\n",
            "torch.Size([3, 64, 10, 10, 40])\n",
            "torch.Size([3, 32, 10, 10, 40])\n",
            "torch.Size([3, 16, 10, 10, 40])\n",
            "torch.Size([3, 8, 40, 40, 40])\n",
            "torch.Size([3, 1, 60, 60, 40])\n",
            "Fine train\n",
            "Inizio fase di validazione\n",
            "Evaluate 1 fatto\n",
            "torch.Size([8, 32, 60, 60, 40])\n",
            "torch.Size([8, 32, 60, 60, 40])\n",
            "torch.Size([8, 32, 30, 30, 40])\n",
            "torch.Size([8, 64, 26, 26, 39])\n",
            "torch.Size([8, 64, 22, 22, 38])\n",
            "torch.Size([8, 64, 11, 11, 38])\n",
            "torch.Size([8, 128, 7, 7, 37])\n",
            "torch.Size([8, 128, 3, 3, 36])\n",
            "torch.Size([8, 64, 10, 10, 40])\n",
            "torch.Size([8, 32, 10, 10, 40])\n",
            "torch.Size([8, 16, 10, 10, 40])\n",
            "torch.Size([8, 8, 40, 40, 40])\n",
            "(8, 60, 60, 40) (8, 60, 60, 40)\n",
            "torch.Size([2, 32, 60, 60, 40])\n",
            "torch.Size([2, 32, 60, 60, 40])\n",
            "torch.Size([2, 32, 30, 30, 40])\n",
            "torch.Size([2, 64, 26, 26, 39])\n",
            "torch.Size([2, 64, 22, 22, 38])\n",
            "torch.Size([2, 64, 11, 11, 38])\n",
            "torch.Size([2, 128, 7, 7, 37])\n",
            "torch.Size([2, 128, 3, 3, 36])\n",
            "torch.Size([2, 64, 10, 10, 40])\n",
            "torch.Size([2, 32, 10, 10, 40])\n",
            "torch.Size([2, 16, 10, 10, 40])\n",
            "torch.Size([2, 8, 40, 40, 40])\n",
            "(2, 60, 60, 40) (2, 60, 60, 40)\n",
            "Evaluate 2 fatto\n",
            "Evaluate fatto\n",
            "2 fatto\n",
            "Epoch [7], train_loss: 1582.3226, val_loss: 1726.6953, mse: 1726.6954, nrmse: 1.0150, ssim: 0.0000, psnr: -41.2707\n",
            "3 fatto\n",
            "Inizio del train\n",
            "torch.Size([8, 45, 60, 60, 40])\n",
            "torch.Size([8, 1, 60, 60, 40])\n",
            "torch.Size([8, 32, 60, 60, 40])\n",
            "torch.Size([8, 32, 60, 60, 40])\n",
            "torch.Size([8, 32, 30, 30, 40])\n",
            "torch.Size([8, 64, 26, 26, 39])\n",
            "torch.Size([8, 64, 22, 22, 38])\n",
            "torch.Size([8, 64, 11, 11, 38])\n",
            "torch.Size([8, 128, 7, 7, 37])\n",
            "torch.Size([8, 128, 3, 3, 36])\n",
            "torch.Size([8, 64, 10, 10, 40])\n",
            "torch.Size([8, 32, 10, 10, 40])\n",
            "torch.Size([8, 16, 10, 10, 40])\n",
            "torch.Size([8, 8, 40, 40, 40])\n",
            "torch.Size([8, 1, 60, 60, 40])\n",
            "Fine train\n",
            "torch.Size([8, 45, 60, 60, 40])\n",
            "torch.Size([8, 1, 60, 60, 40])\n",
            "torch.Size([8, 32, 60, 60, 40])\n",
            "torch.Size([8, 32, 60, 60, 40])\n",
            "torch.Size([8, 32, 30, 30, 40])\n",
            "torch.Size([8, 64, 26, 26, 39])\n",
            "torch.Size([8, 64, 22, 22, 38])\n",
            "torch.Size([8, 64, 11, 11, 38])\n",
            "torch.Size([8, 128, 7, 7, 37])\n",
            "torch.Size([8, 128, 3, 3, 36])\n",
            "torch.Size([8, 64, 10, 10, 40])\n",
            "torch.Size([8, 32, 10, 10, 40])\n",
            "torch.Size([8, 16, 10, 10, 40])\n",
            "torch.Size([8, 8, 40, 40, 40])\n",
            "torch.Size([8, 1, 60, 60, 40])\n",
            "Fine train\n",
            "torch.Size([8, 45, 60, 60, 40])\n",
            "torch.Size([8, 1, 60, 60, 40])\n",
            "torch.Size([8, 32, 60, 60, 40])\n",
            "torch.Size([8, 32, 60, 60, 40])\n",
            "torch.Size([8, 32, 30, 30, 40])\n",
            "torch.Size([8, 64, 26, 26, 39])\n",
            "torch.Size([8, 64, 22, 22, 38])\n",
            "torch.Size([8, 64, 11, 11, 38])\n",
            "torch.Size([8, 128, 7, 7, 37])\n",
            "torch.Size([8, 128, 3, 3, 36])\n",
            "torch.Size([8, 64, 10, 10, 40])\n",
            "torch.Size([8, 32, 10, 10, 40])\n",
            "torch.Size([8, 16, 10, 10, 40])\n",
            "torch.Size([8, 8, 40, 40, 40])\n",
            "torch.Size([8, 1, 60, 60, 40])\n",
            "Fine train\n",
            "torch.Size([8, 45, 60, 60, 40])\n",
            "torch.Size([8, 1, 60, 60, 40])\n",
            "torch.Size([8, 32, 60, 60, 40])\n",
            "torch.Size([8, 32, 60, 60, 40])\n",
            "torch.Size([8, 32, 30, 30, 40])\n",
            "torch.Size([8, 64, 26, 26, 39])\n",
            "torch.Size([8, 64, 22, 22, 38])\n",
            "torch.Size([8, 64, 11, 11, 38])\n",
            "torch.Size([8, 128, 7, 7, 37])\n",
            "torch.Size([8, 128, 3, 3, 36])\n",
            "torch.Size([8, 64, 10, 10, 40])\n",
            "torch.Size([8, 32, 10, 10, 40])\n",
            "torch.Size([8, 16, 10, 10, 40])\n",
            "torch.Size([8, 8, 40, 40, 40])\n",
            "torch.Size([8, 1, 60, 60, 40])\n",
            "Fine train\n",
            "torch.Size([3, 45, 60, 60, 40])\n",
            "torch.Size([3, 1, 60, 60, 40])\n",
            "torch.Size([3, 32, 60, 60, 40])\n",
            "torch.Size([3, 32, 60, 60, 40])\n",
            "torch.Size([3, 32, 30, 30, 40])\n",
            "torch.Size([3, 64, 26, 26, 39])\n",
            "torch.Size([3, 64, 22, 22, 38])\n",
            "torch.Size([3, 64, 11, 11, 38])\n",
            "torch.Size([3, 128, 7, 7, 37])\n",
            "torch.Size([3, 128, 3, 3, 36])\n",
            "torch.Size([3, 64, 10, 10, 40])\n",
            "torch.Size([3, 32, 10, 10, 40])\n",
            "torch.Size([3, 16, 10, 10, 40])\n",
            "torch.Size([3, 8, 40, 40, 40])\n",
            "torch.Size([3, 1, 60, 60, 40])\n",
            "Fine train\n",
            "Inizio fase di validazione\n",
            "Evaluate 1 fatto\n",
            "torch.Size([8, 32, 60, 60, 40])\n",
            "torch.Size([8, 32, 60, 60, 40])\n",
            "torch.Size([8, 32, 30, 30, 40])\n",
            "torch.Size([8, 64, 26, 26, 39])\n",
            "torch.Size([8, 64, 22, 22, 38])\n",
            "torch.Size([8, 64, 11, 11, 38])\n",
            "torch.Size([8, 128, 7, 7, 37])\n",
            "torch.Size([8, 128, 3, 3, 36])\n",
            "torch.Size([8, 64, 10, 10, 40])\n",
            "torch.Size([8, 32, 10, 10, 40])\n",
            "torch.Size([8, 16, 10, 10, 40])\n",
            "torch.Size([8, 8, 40, 40, 40])\n",
            "(8, 60, 60, 40) (8, 60, 60, 40)\n",
            "torch.Size([2, 32, 60, 60, 40])\n",
            "torch.Size([2, 32, 60, 60, 40])\n",
            "torch.Size([2, 32, 30, 30, 40])\n",
            "torch.Size([2, 64, 26, 26, 39])\n",
            "torch.Size([2, 64, 22, 22, 38])\n",
            "torch.Size([2, 64, 11, 11, 38])\n",
            "torch.Size([2, 128, 7, 7, 37])\n",
            "torch.Size([2, 128, 3, 3, 36])\n",
            "torch.Size([2, 64, 10, 10, 40])\n",
            "torch.Size([2, 32, 10, 10, 40])\n",
            "torch.Size([2, 16, 10, 10, 40])\n",
            "torch.Size([2, 8, 40, 40, 40])\n",
            "(2, 60, 60, 40) (2, 60, 60, 40)\n",
            "Evaluate 2 fatto\n",
            "Evaluate fatto\n",
            "2 fatto\n",
            "Epoch [8], train_loss: 1584.8544, val_loss: 1726.7212, mse: 1726.7209, nrmse: 1.0151, ssim: 0.0000, psnr: -38.3909\n",
            "3 fatto\n",
            "Inizio del train\n",
            "torch.Size([8, 45, 60, 60, 40])\n",
            "torch.Size([8, 1, 60, 60, 40])\n",
            "torch.Size([8, 32, 60, 60, 40])\n",
            "torch.Size([8, 32, 60, 60, 40])\n",
            "torch.Size([8, 32, 30, 30, 40])\n",
            "torch.Size([8, 64, 26, 26, 39])\n",
            "torch.Size([8, 64, 22, 22, 38])\n",
            "torch.Size([8, 64, 11, 11, 38])\n",
            "torch.Size([8, 128, 7, 7, 37])\n",
            "torch.Size([8, 128, 3, 3, 36])\n",
            "torch.Size([8, 64, 10, 10, 40])\n",
            "torch.Size([8, 32, 10, 10, 40])\n",
            "torch.Size([8, 16, 10, 10, 40])\n",
            "torch.Size([8, 8, 40, 40, 40])\n",
            "torch.Size([8, 1, 60, 60, 40])\n",
            "Fine train\n",
            "torch.Size([8, 45, 60, 60, 40])\n",
            "torch.Size([8, 1, 60, 60, 40])\n",
            "torch.Size([8, 32, 60, 60, 40])\n",
            "torch.Size([8, 32, 60, 60, 40])\n",
            "torch.Size([8, 32, 30, 30, 40])\n",
            "torch.Size([8, 64, 26, 26, 39])\n",
            "torch.Size([8, 64, 22, 22, 38])\n",
            "torch.Size([8, 64, 11, 11, 38])\n",
            "torch.Size([8, 128, 7, 7, 37])\n",
            "torch.Size([8, 128, 3, 3, 36])\n",
            "torch.Size([8, 64, 10, 10, 40])\n",
            "torch.Size([8, 32, 10, 10, 40])\n",
            "torch.Size([8, 16, 10, 10, 40])\n",
            "torch.Size([8, 8, 40, 40, 40])\n",
            "torch.Size([8, 1, 60, 60, 40])\n",
            "Fine train\n",
            "torch.Size([8, 45, 60, 60, 40])\n",
            "torch.Size([8, 1, 60, 60, 40])\n",
            "torch.Size([8, 32, 60, 60, 40])\n",
            "torch.Size([8, 32, 60, 60, 40])\n",
            "torch.Size([8, 32, 30, 30, 40])\n",
            "torch.Size([8, 64, 26, 26, 39])\n",
            "torch.Size([8, 64, 22, 22, 38])\n",
            "torch.Size([8, 64, 11, 11, 38])\n",
            "torch.Size([8, 128, 7, 7, 37])\n",
            "torch.Size([8, 128, 3, 3, 36])\n",
            "torch.Size([8, 64, 10, 10, 40])\n",
            "torch.Size([8, 32, 10, 10, 40])\n",
            "torch.Size([8, 16, 10, 10, 40])\n",
            "torch.Size([8, 8, 40, 40, 40])\n",
            "torch.Size([8, 1, 60, 60, 40])\n",
            "Fine train\n",
            "torch.Size([8, 45, 60, 60, 40])\n",
            "torch.Size([8, 1, 60, 60, 40])\n",
            "torch.Size([8, 32, 60, 60, 40])\n",
            "torch.Size([8, 32, 60, 60, 40])\n",
            "torch.Size([8, 32, 30, 30, 40])\n",
            "torch.Size([8, 64, 26, 26, 39])\n",
            "torch.Size([8, 64, 22, 22, 38])\n",
            "torch.Size([8, 64, 11, 11, 38])\n",
            "torch.Size([8, 128, 7, 7, 37])\n",
            "torch.Size([8, 128, 3, 3, 36])\n",
            "torch.Size([8, 64, 10, 10, 40])\n",
            "torch.Size([8, 32, 10, 10, 40])\n",
            "torch.Size([8, 16, 10, 10, 40])\n",
            "torch.Size([8, 8, 40, 40, 40])\n",
            "torch.Size([8, 1, 60, 60, 40])\n",
            "Fine train\n",
            "torch.Size([3, 45, 60, 60, 40])\n",
            "torch.Size([3, 1, 60, 60, 40])\n",
            "torch.Size([3, 32, 60, 60, 40])\n",
            "torch.Size([3, 32, 60, 60, 40])\n",
            "torch.Size([3, 32, 30, 30, 40])\n",
            "torch.Size([3, 64, 26, 26, 39])\n",
            "torch.Size([3, 64, 22, 22, 38])\n",
            "torch.Size([3, 64, 11, 11, 38])\n",
            "torch.Size([3, 128, 7, 7, 37])\n",
            "torch.Size([3, 128, 3, 3, 36])\n",
            "torch.Size([3, 64, 10, 10, 40])\n",
            "torch.Size([3, 32, 10, 10, 40])\n",
            "torch.Size([3, 16, 10, 10, 40])\n",
            "torch.Size([3, 8, 40, 40, 40])\n",
            "torch.Size([3, 1, 60, 60, 40])\n",
            "Fine train\n",
            "Inizio fase di validazione\n",
            "Evaluate 1 fatto\n",
            "torch.Size([8, 32, 60, 60, 40])\n",
            "torch.Size([8, 32, 60, 60, 40])\n",
            "torch.Size([8, 32, 30, 30, 40])\n",
            "torch.Size([8, 64, 26, 26, 39])\n",
            "torch.Size([8, 64, 22, 22, 38])\n",
            "torch.Size([8, 64, 11, 11, 38])\n",
            "torch.Size([8, 128, 7, 7, 37])\n",
            "torch.Size([8, 128, 3, 3, 36])\n",
            "torch.Size([8, 64, 10, 10, 40])\n",
            "torch.Size([8, 32, 10, 10, 40])\n",
            "torch.Size([8, 16, 10, 10, 40])\n",
            "torch.Size([8, 8, 40, 40, 40])\n",
            "(8, 60, 60, 40) (8, 60, 60, 40)\n",
            "torch.Size([2, 32, 60, 60, 40])\n",
            "torch.Size([2, 32, 60, 60, 40])\n",
            "torch.Size([2, 32, 30, 30, 40])\n",
            "torch.Size([2, 64, 26, 26, 39])\n",
            "torch.Size([2, 64, 22, 22, 38])\n",
            "torch.Size([2, 64, 11, 11, 38])\n",
            "torch.Size([2, 128, 7, 7, 37])\n",
            "torch.Size([2, 128, 3, 3, 36])\n",
            "torch.Size([2, 64, 10, 10, 40])\n",
            "torch.Size([2, 32, 10, 10, 40])\n",
            "torch.Size([2, 16, 10, 10, 40])\n",
            "torch.Size([2, 8, 40, 40, 40])\n",
            "(2, 60, 60, 40) (2, 60, 60, 40)\n",
            "Evaluate 2 fatto\n",
            "Evaluate fatto\n",
            "2 fatto\n",
            "Epoch [9], train_loss: 1604.4066, val_loss: 1726.7500, mse: 1726.7501, nrmse: 1.0151, ssim: 0.0000, psnr: -35.3670\n",
            "3 fatto\n",
            "Inizio del train\n",
            "torch.Size([8, 45, 60, 60, 40])\n",
            "torch.Size([8, 1, 60, 60, 40])\n",
            "torch.Size([8, 32, 60, 60, 40])\n",
            "torch.Size([8, 32, 60, 60, 40])\n",
            "torch.Size([8, 32, 30, 30, 40])\n",
            "torch.Size([8, 64, 26, 26, 39])\n",
            "torch.Size([8, 64, 22, 22, 38])\n",
            "torch.Size([8, 64, 11, 11, 38])\n",
            "torch.Size([8, 128, 7, 7, 37])\n",
            "torch.Size([8, 128, 3, 3, 36])\n",
            "torch.Size([8, 64, 10, 10, 40])\n",
            "torch.Size([8, 32, 10, 10, 40])\n",
            "torch.Size([8, 16, 10, 10, 40])\n",
            "torch.Size([8, 8, 40, 40, 40])\n",
            "torch.Size([8, 1, 60, 60, 40])\n",
            "Fine train\n",
            "torch.Size([8, 45, 60, 60, 40])\n",
            "torch.Size([8, 1, 60, 60, 40])\n",
            "torch.Size([8, 32, 60, 60, 40])\n",
            "torch.Size([8, 32, 60, 60, 40])\n",
            "torch.Size([8, 32, 30, 30, 40])\n",
            "torch.Size([8, 64, 26, 26, 39])\n",
            "torch.Size([8, 64, 22, 22, 38])\n",
            "torch.Size([8, 64, 11, 11, 38])\n",
            "torch.Size([8, 128, 7, 7, 37])\n",
            "torch.Size([8, 128, 3, 3, 36])\n",
            "torch.Size([8, 64, 10, 10, 40])\n",
            "torch.Size([8, 32, 10, 10, 40])\n",
            "torch.Size([8, 16, 10, 10, 40])\n",
            "torch.Size([8, 8, 40, 40, 40])\n",
            "torch.Size([8, 1, 60, 60, 40])\n",
            "Fine train\n",
            "torch.Size([8, 45, 60, 60, 40])\n",
            "torch.Size([8, 1, 60, 60, 40])\n",
            "torch.Size([8, 32, 60, 60, 40])\n",
            "torch.Size([8, 32, 60, 60, 40])\n",
            "torch.Size([8, 32, 30, 30, 40])\n",
            "torch.Size([8, 64, 26, 26, 39])\n",
            "torch.Size([8, 64, 22, 22, 38])\n",
            "torch.Size([8, 64, 11, 11, 38])\n",
            "torch.Size([8, 128, 7, 7, 37])\n",
            "torch.Size([8, 128, 3, 3, 36])\n",
            "torch.Size([8, 64, 10, 10, 40])\n",
            "torch.Size([8, 32, 10, 10, 40])\n",
            "torch.Size([8, 16, 10, 10, 40])\n",
            "torch.Size([8, 8, 40, 40, 40])\n",
            "torch.Size([8, 1, 60, 60, 40])\n",
            "Fine train\n",
            "torch.Size([8, 45, 60, 60, 40])\n",
            "torch.Size([8, 1, 60, 60, 40])\n",
            "torch.Size([8, 32, 60, 60, 40])\n",
            "torch.Size([8, 32, 60, 60, 40])\n",
            "torch.Size([8, 32, 30, 30, 40])\n",
            "torch.Size([8, 64, 26, 26, 39])\n",
            "torch.Size([8, 64, 22, 22, 38])\n",
            "torch.Size([8, 64, 11, 11, 38])\n",
            "torch.Size([8, 128, 7, 7, 37])\n",
            "torch.Size([8, 128, 3, 3, 36])\n",
            "torch.Size([8, 64, 10, 10, 40])\n",
            "torch.Size([8, 32, 10, 10, 40])\n",
            "torch.Size([8, 16, 10, 10, 40])\n",
            "torch.Size([8, 8, 40, 40, 40])\n",
            "torch.Size([8, 1, 60, 60, 40])\n",
            "Fine train\n",
            "torch.Size([3, 45, 60, 60, 40])\n",
            "torch.Size([3, 1, 60, 60, 40])\n",
            "torch.Size([3, 32, 60, 60, 40])\n",
            "torch.Size([3, 32, 60, 60, 40])\n",
            "torch.Size([3, 32, 30, 30, 40])\n",
            "torch.Size([3, 64, 26, 26, 39])\n",
            "torch.Size([3, 64, 22, 22, 38])\n",
            "torch.Size([3, 64, 11, 11, 38])\n",
            "torch.Size([3, 128, 7, 7, 37])\n",
            "torch.Size([3, 128, 3, 3, 36])\n",
            "torch.Size([3, 64, 10, 10, 40])\n",
            "torch.Size([3, 32, 10, 10, 40])\n",
            "torch.Size([3, 16, 10, 10, 40])\n",
            "torch.Size([3, 8, 40, 40, 40])\n",
            "torch.Size([3, 1, 60, 60, 40])\n",
            "Fine train\n",
            "Inizio fase di validazione\n",
            "Evaluate 1 fatto\n",
            "torch.Size([8, 32, 60, 60, 40])\n",
            "torch.Size([8, 32, 60, 60, 40])\n",
            "torch.Size([8, 32, 30, 30, 40])\n",
            "torch.Size([8, 64, 26, 26, 39])\n",
            "torch.Size([8, 64, 22, 22, 38])\n",
            "torch.Size([8, 64, 11, 11, 38])\n",
            "torch.Size([8, 128, 7, 7, 37])\n",
            "torch.Size([8, 128, 3, 3, 36])\n",
            "torch.Size([8, 64, 10, 10, 40])\n",
            "torch.Size([8, 32, 10, 10, 40])\n",
            "torch.Size([8, 16, 10, 10, 40])\n",
            "torch.Size([8, 8, 40, 40, 40])\n",
            "(8, 60, 60, 40) (8, 60, 60, 40)\n",
            "torch.Size([2, 32, 60, 60, 40])\n",
            "torch.Size([2, 32, 60, 60, 40])\n",
            "torch.Size([2, 32, 30, 30, 40])\n",
            "torch.Size([2, 64, 26, 26, 39])\n",
            "torch.Size([2, 64, 22, 22, 38])\n",
            "torch.Size([2, 64, 11, 11, 38])\n",
            "torch.Size([2, 128, 7, 7, 37])\n",
            "torch.Size([2, 128, 3, 3, 36])\n",
            "torch.Size([2, 64, 10, 10, 40])\n",
            "torch.Size([2, 32, 10, 10, 40])\n",
            "torch.Size([2, 16, 10, 10, 40])\n",
            "torch.Size([2, 8, 40, 40, 40])\n",
            "(2, 60, 60, 40) (2, 60, 60, 40)\n",
            "Evaluate 2 fatto\n",
            "Evaluate fatto\n",
            "2 fatto\n",
            "Epoch [10], train_loss: 1652.4231, val_loss: 1726.7721, mse: 1726.7721, nrmse: 1.0151, ssim: 0.0000, psnr: -33.1570\n",
            "3 fatto\n"
          ]
        }
      ],
      "source": [
        "history = fit(num_epochs, lr, model, train_loader, val_loader, opt_func, path_name='ResNet_best_model_train')"
      ]
    },
    {
      "cell_type": "code",
      "execution_count": 42,
      "metadata": {
        "id": "54Gm-uwEHLmx"
      },
      "outputs": [],
      "source": [
        "def plot_val_loss(history):\n",
        "    val_loss = [x['val_loss'] for x in history]\n",
        "    plt.plot(val_loss, '-x')\n",
        "    plt.xlabel('epoch')\n",
        "    plt.ylabel('val_loss')\n",
        "    plt.title('val_loss vs. No. of epochs')\n",
        "    plt.show();"
      ]
    },
    {
      "cell_type": "code",
      "execution_count": 43,
      "metadata": {
        "id": "i3QalRXNFoSl"
      },
      "outputs": [],
      "source": [
        "def plot_train_loss(history):\n",
        "    train_loss = [x['train_loss'] for x in history]\n",
        "    plt.plot(train_loss, '-x')\n",
        "    plt.xlabel('epoch')\n",
        "    plt.ylabel('train_loss')\n",
        "    plt.title('train_loss vs. No. of epochs')\n",
        "    plt.show();"
      ]
    },
    {
      "cell_type": "code",
      "execution_count": 44,
      "metadata": {
        "id": "i8y1orIxFKcD"
      },
      "outputs": [],
      "source": [
        "def plot_MSE(history):\n",
        "    mse = [x['mse'] for x in history]\n",
        "    plt.plot(mse, '-x')\n",
        "    plt.xlabel('epoch')\n",
        "    plt.ylabel('MSE')\n",
        "    plt.title('MSE vs. No. of epochs')\n",
        "    plt.show();"
      ]
    },
    {
      "cell_type": "code",
      "execution_count": 45,
      "metadata": {
        "id": "LkSKTPdgF6Qh"
      },
      "outputs": [],
      "source": [
        "def plot_NRMSE(history):\n",
        "    nrmse = [x['nrmse'] for x in history]\n",
        "    plt.plot(nrmse, '-x')\n",
        "    plt.xlabel('epoch')\n",
        "    plt.ylabel('NRMSE')\n",
        "    plt.title('NRMSE vs. No. of epochs')\n",
        "    plt.show();"
      ]
    },
    {
      "cell_type": "code",
      "execution_count": 46,
      "metadata": {
        "id": "hPq1fJjjGGgI"
      },
      "outputs": [],
      "source": [
        "def plot_PSNR(history):\n",
        "    psnr = [x['psnr'] for x in history]\n",
        "    plt.plot(psnr, '-x')\n",
        "    plt.xlabel('epoch')\n",
        "    plt.ylabel('PSNR')\n",
        "    plt.title('PSNR vs. No. of epochs')\n",
        "    plt.show();"
      ]
    },
    {
      "cell_type": "code",
      "execution_count": 47,
      "metadata": {
        "id": "aKdmCuYFHPee",
        "colab": {
          "base_uri": "https://localhost:8080/",
          "height": 1000
        },
        "outputId": "309528b6-7f3f-4efd-c24b-2bade7808573"
      },
      "outputs": [
        {
          "output_type": "display_data",
          "data": {
            "text/plain": [
              "<Figure size 640x480 with 1 Axes>"
            ],
            "image/png": "[encoded data removed]"
          },
          "metadata": {}
        },
        {
          "output_type": "display_data",
          "data": {
            "text/plain": [
              "<Figure size 640x480 with 1 Axes>"
            ],
            "image/png": "[encoded data removed]"
          },
          "metadata": {}
        },
        {
          "output_type": "display_data",
          "data": {
            "text/plain": [
              "<Figure size 640x480 with 1 Axes>"
            ],
            "image/png": "[encoded data removed]"
          },
          "metadata": {}
        },
        {
          "output_type": "display_data",
          "data": {
            "text/plain": [
              "<Figure size 640x480 with 1 Axes>"
            ],
            "image/png": "[encoded data removed]"
          },
          "metadata": {}
        },
        {
          "output_type": "display_data",
          "data": {
            "text/plain": [
              "<Figure size 640x480 with 1 Axes>"
            ],
            "image/png": "[encoded data removed]"
          },
          "metadata": {}
        },
        {
          "output_type": "execute_result",
          "data": {
            "text/plain": [
              "(None, None, None, None, None)"
            ]
          },
          "metadata": {},
          "execution_count": 47
        }
      ],
      "source": [
        "plot_val_loss(history), plot_train_loss(history), plot_MSE(history), plot_NRMSE(history), plot_PSNR(history)"
      ]
    },
    {
      "cell_type": "markdown",
      "metadata": {
        "id": "ZScEdUMKHR5o"
      },
      "source": [
        "## Testing del modello"
      ]
    },
    {
      "cell_type": "code",
      "execution_count": 48,
      "metadata": {
        "id": "ityHPnU_HQ5t"
      },
      "outputs": [],
      "source": [
        "def predict_image(img, model):\n",
        "    # Convert to a batch of 1\n",
        "    xb = img  #.unsqueeze(0)\n",
        "    # Get predictions from model\n",
        "    yb = model(xb)\n",
        "    #"
      ]
    },
    {
      "cell_type": "code",
      "execution_count": 49,
      "metadata": {
        "id": "27yRQldFy_WP",
        "colab": {
          "base_uri": "https://localhost:8080/"
        },
        "outputId": "bf7f94d4-53af-4b58-ebf6-b8934235685b"
      },
      "outputs": [
        {
          "output_type": "execute_result",
          "data": {
            "text/plain": [
              "ScalarImage(shape: (1, 60, 60, 40); spacing: (2.00, 2.00, 2.00); orientation: RAS+; dtype: torch.ShortTensor; memory: 281.2 KiB)"
            ]
          },
          "metadata": {},
          "execution_count": 49
        }
      ],
      "source": [
        "#visualizzare un'immagine specifica\n",
        "training_set[0].rCBV\n",
        "#nii_array = nii_image.numpy() #bisogna trasformare l'immagin ein vettore con il comando numpy()\n",
        "#plt.imshow(nii_array[1, :, :, 50], cmap='gray') #time_frame,x,y,z\n",
        "#plt.show()\n",
        "#training_set[0].DSC, training_set[0].rCBV"
      ]
    },
    {
      "cell_type": "code",
      "execution_count": 50,
      "metadata": {
        "id": "bXjv07ydz_P_",
        "colab": {
          "base_uri": "https://localhost:8080/",
          "height": 236
        },
        "outputId": "f7bf1c64-8b59-40e2-c294-ece985d5cf9b"
      },
      "outputs": [
        {
          "output_type": "display_data",
          "data": {
            "text/plain": [
              "<Figure size 640x480 with 3 Axes>"
            ],
            "image/png": "[encoded data removed]"
          },
          "metadata": {}
        }
      ],
      "source": [
        "dataset[0][\"DSC\"].plot()"
      ]
    },
    {
      "cell_type": "code",
      "execution_count": 51,
      "metadata": {
        "id": "fR1AdFFJ1VN_",
        "colab": {
          "base_uri": "https://localhost:8080/",
          "height": 470
        },
        "outputId": "b3cca3f9-ca0c-46dc-dad0-49018d591600"
      },
      "outputs": [
        {
          "output_type": "stream",
          "name": "stdout",
          "text": [
            "torch.Size([1, 240, 240, 155])\n"
          ]
        },
        {
          "output_type": "execute_result",
          "data": {
            "text/plain": [
              "<matplotlib.image.AxesImage at 0x7f16bc9a2500>"
            ]
          },
          "metadata": {},
          "execution_count": 51
        },
        {
          "output_type": "display_data",
          "data": {
            "text/plain": [
              "<Figure size 640x480 with 1 Axes>"
            ],
            "image/png": "[encoded data removed]"
          },
          "metadata": {}
        }
      ],
      "source": [
        "xb = dataset[0][\"rCBV\"][tio.DATA]\n",
        "print(xb.shape)\n",
        "plt.imshow(xb[0, ...,90])"
      ]
    },
    {
      "cell_type": "code",
      "execution_count": 52,
      "metadata": {
        "id": "7o5oMay8gWYi",
        "colab": {
          "base_uri": "https://localhost:8080/",
          "height": 640
        },
        "outputId": "4f78c19b-b42a-4f6d-8045-4ca88b6badc4"
      },
      "outputs": [
        {
          "output_type": "stream",
          "name": "stdout",
          "text": [
            "torch.Size([1, 32, 60, 60, 40])\n",
            "torch.Size([1, 32, 60, 60, 40])\n",
            "torch.Size([1, 32, 30, 30, 40])\n",
            "torch.Size([1, 64, 26, 26, 39])\n",
            "torch.Size([1, 64, 22, 22, 38])\n",
            "torch.Size([1, 64, 11, 11, 38])\n",
            "torch.Size([1, 128, 7, 7, 37])\n",
            "torch.Size([1, 128, 3, 3, 36])\n",
            "torch.Size([1, 64, 10, 10, 40])\n",
            "torch.Size([1, 32, 10, 10, 40])\n",
            "torch.Size([1, 16, 10, 10, 40])\n",
            "torch.Size([1, 8, 40, 40, 40])\n"
          ]
        },
        {
          "output_type": "display_data",
          "data": {
            "text/plain": [
              "<Figure size 640x480 with 1 Axes>"
            ],
            "image/png": "[encoded data removed]"
          },
          "metadata": {}
        }
      ],
      "source": [
        "import random\n",
        "subject = random.choice(validation_set)\n",
        "\n",
        "input_tensor = subject['DSC'][tio.DATA].to(device)\n",
        "input_tensor.shape\n",
        "\n",
        "model.eval()\n",
        "\n",
        "with torch.no_grad():\n",
        "    pred = model(input_tensor.unsqueeze(0).to(torch.float32)) \n",
        "    plt.imshow(pred[0,0, ..., 30].cpu())"
      ]
    },
    {
      "cell_type": "code",
      "execution_count": 53,
      "metadata": {
        "id": "tUD7Xbtro7v4",
        "colab": {
          "base_uri": "https://localhost:8080/"
        },
        "outputId": "4cc376f1-072a-4bbb-a1e4-b5094e76a807"
      },
      "outputs": [
        {
          "output_type": "execute_result",
          "data": {
            "text/plain": [
              "torch.Size([45, 60, 60, 40])"
            ]
          },
          "metadata": {},
          "execution_count": 53
        }
      ],
      "source": [
        "pred.shape\n",
        "input_tensor.shape"
      ]
    },
    {
      "cell_type": "code",
      "execution_count": 54,
      "metadata": {
        "id": "V43QLE5qPTOO",
        "colab": {
          "base_uri": "https://localhost:8080/",
          "height": 443
        },
        "outputId": "3807aa2e-9921-40a8-9c8a-6ca03b5ce9e1"
      },
      "outputs": [
        {
          "output_type": "stream",
          "name": "stdout",
          "text": [
            "torch.Size([45, 240, 240, 155])\n",
            "torch.Size([1, 45, 240, 240, 155])\n",
            "torch.Size([1, 32, 240, 240, 155])\n",
            "torch.Size([1, 32, 240, 240, 155])\n",
            "torch.Size([1, 32, 120, 120, 155])\n",
            "torch.Size([1, 64, 116, 116, 154])\n",
            "torch.Size([1, 64, 112, 112, 153])\n",
            "torch.Size([1, 64, 56, 56, 153])\n",
            "torch.Size([1, 128, 52, 52, 152])\n",
            "torch.Size([1, 128, 48, 48, 151])\n",
            "torch.Size([1, 64, 55, 55, 155])\n",
            "torch.Size([1, 32, 55, 55, 155])\n",
            "torch.Size([1, 16, 55, 55, 155])\n",
            "torch.Size([1, 8, 85, 85, 155])\n"
          ]
        },
        {
          "output_type": "error",
          "ename": "TypeError",
          "evalue": "ignored",
          "traceback": [
            "\u001b[0;31m---------------------------------------------------------------------------\u001b[0m",
            "\u001b[0;31mTypeError\u001b[0m                                 Traceback (most recent call last)",
            "\u001b[0;32m<ipython-input-54-b8fb99fc5f07>\u001b[0m in \u001b[0;36m<cell line: 5>\u001b[0;34m()\u001b[0m\n\u001b[1;32m      3\u001b[0m \u001b[0mprint\u001b[0m\u001b[0;34m(\u001b[0m\u001b[0myb\u001b[0m\u001b[0;34m.\u001b[0m\u001b[0mshape\u001b[0m\u001b[0;34m)\u001b[0m\u001b[0;34m\u001b[0m\u001b[0;34m\u001b[0m\u001b[0m\n\u001b[1;32m      4\u001b[0m \u001b[0myb\u001b[0m\u001b[0;34m=\u001b[0m\u001b[0mmodel\u001b[0m\u001b[0;34m(\u001b[0m\u001b[0mdataset\u001b[0m\u001b[0;34m[\u001b[0m\u001b[0;36m0\u001b[0m\u001b[0;34m]\u001b[0m\u001b[0;34m[\u001b[0m\u001b[0;34m\"DSC\"\u001b[0m\u001b[0;34m]\u001b[0m\u001b[0;34m[\u001b[0m\u001b[0mtio\u001b[0m\u001b[0;34m.\u001b[0m\u001b[0mDATA\u001b[0m\u001b[0;34m]\u001b[0m\u001b[0;34m.\u001b[0m\u001b[0munsqueeze\u001b[0m\u001b[0;34m(\u001b[0m\u001b[0mdim\u001b[0m\u001b[0;34m=\u001b[0m\u001b[0;36m0\u001b[0m\u001b[0;34m)\u001b[0m\u001b[0;34m.\u001b[0m\u001b[0mcuda\u001b[0m\u001b[0;34m(\u001b[0m\u001b[0;34m)\u001b[0m\u001b[0;34m.\u001b[0m\u001b[0mto\u001b[0m\u001b[0;34m(\u001b[0m\u001b[0mtorch\u001b[0m\u001b[0;34m.\u001b[0m\u001b[0mfloat32\u001b[0m\u001b[0;34m)\u001b[0m\u001b[0;34m)\u001b[0m\u001b[0;34m\u001b[0m\u001b[0;34m\u001b[0m\u001b[0m\n\u001b[0;32m----> 5\u001b[0;31m \u001b[0mplt\u001b[0m\u001b[0;34m.\u001b[0m\u001b[0mimshow\u001b[0m\u001b[0;34m(\u001b[0m\u001b[0myb\u001b[0m\u001b[0;34m.\u001b[0m\u001b[0mdetach\u001b[0m\u001b[0;34m(\u001b[0m\u001b[0;34m)\u001b[0m\u001b[0;34m.\u001b[0m\u001b[0mnumpy\u001b[0m\u001b[0;34m(\u001b[0m\u001b[0;34m)\u001b[0m\u001b[0;34m[\u001b[0m\u001b[0;36m0\u001b[0m\u001b[0;34m,\u001b[0m\u001b[0;36m0\u001b[0m\u001b[0;34m,\u001b[0m \u001b[0;34m:\u001b[0m\u001b[0;34m,\u001b[0m \u001b[0;34m:\u001b[0m\u001b[0;34m,\u001b[0m \u001b[0;36m50\u001b[0m\u001b[0;34m]\u001b[0m\u001b[0;34m,\u001b[0m \u001b[0mcmap\u001b[0m\u001b[0;34m=\u001b[0m\u001b[0;34m'gray'\u001b[0m\u001b[0;34m)\u001b[0m\u001b[0;34m\u001b[0m\u001b[0;34m\u001b[0m\u001b[0m\n\u001b[0m",
            "\u001b[0;31mTypeError\u001b[0m: can't convert cuda:0 device type tensor to numpy. Use Tensor.cpu() to copy the tensor to host memory first."
          ]
        }
      ],
      "source": [
        "print(dataset[0][\"DSC\"][tio.DATA].shape)\n",
        "yb=dataset[0][\"DSC\"][tio.DATA].unsqueeze(dim=0)\n",
        "print(yb.shape)\n",
        "yb=model(dataset[0][\"DSC\"][tio.DATA].unsqueeze(dim=0).cuda().to(torch.float32))\n",
        "plt.imshow(yb.detach().numpy()[0,0, :, :, 50], cmap='gray')"
      ]
    },
    {
      "cell_type": "code",
      "execution_count": null,
      "metadata": {
        "id": "gFezmUVs1WYe"
      },
      "outputs": [],
      "source": [
        "torch.cuda.empty_cache()\n",
        "device = torch.device(\"cpu\")\n",
        "input_tensor = dataset[0][\"DSC\"][tio.DATA].cpu().to(torch.float32).unsqueeze(dim=0)#.to(model.device).to(torch.float32)\n",
        "yb = model(input_tensor)\n",
        "plt.imshow(yb.detach().cpu().numpy()[0, 0, :, :, 80], cmap='gray')"
      ]
    },
    {
      "cell_type": "markdown",
      "metadata": {
        "id": "ACeAVPtt-T8G"
      },
      "source": [
        "Funziona, èquella presentata al secondo round. Le metriche ottenute non sono buone. Va migliorato il modello."
      ]
    }
  ],
  "metadata": {
    "accelerator": "GPU",
    "colab": {
      "machine_shape": "hm",
      "provenance": []
    },
    "gpuClass": "premium",
    "kernelspec": {
      "display_name": "Python 3",
      "name": "python3"
    },
    "language_info": {
      "name": "python"
    }
  },
  "nbformat": 4,
  "nbformat_minor": 0
}